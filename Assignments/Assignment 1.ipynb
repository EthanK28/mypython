{
 "metadata": {
  "name": "",
  "signature": "sha256:5c1f2ae6ec402d03d1602b7db99c45ebdd3b75fc3390d65612ed82e376613fda"
 },
 "nbformat": 3,
 "nbformat_minor": 0,
 "worksheets": [
  {
   "cells": [
    {
     "cell_type": "markdown",
     "metadata": {},
     "source": [
      "##\uc2a4\ud06c\ub9bd\ud2b8 \ud504\ub85c\uadf8\ub798\ubc0d \uccab\ubc88\uc9f8 \uacfc\uc81c\n",
      "### 2008160006 \uac15\uc740\uc11d\n",
      "------------"
     ]
    },
    {
     "cell_type": "markdown",
     "metadata": {},
     "source": [
      "###1\ubc88 \ubb38\uc81c\n",
      "\n"
     ]
    },
    {
     "cell_type": "code",
     "collapsed": false,
     "input": [
      "a = \"Hello Python\"\n",
      "a = a[6:] +' '+ a[0:6]\n",
      "print a"
     ],
     "language": "python",
     "metadata": {},
     "outputs": [
      {
       "output_type": "stream",
       "stream": "stdout",
       "text": [
        "Python Hello \n"
       ]
      }
     ],
     "prompt_number": 1
    },
    {
     "cell_type": "markdown",
     "metadata": {},
     "source": [
      "###2\ubc88 \ubb38\uc81c"
     ]
    },
    {
     "cell_type": "code",
     "collapsed": false,
     "input": [
      "b = \"Hello Python\"\n",
      "b = b[5:] +' '+ b[0:6]\n",
      "b = 'World'+b\n",
      "print b"
     ],
     "language": "python",
     "metadata": {},
     "outputs": [
      {
       "output_type": "stream",
       "stream": "stdout",
       "text": [
        "World Python Hello \n"
       ]
      }
     ],
     "prompt_number": 2
    },
    {
     "cell_type": "markdown",
     "metadata": {},
     "source": [
      "###3\ubc88 \ubb38\uc81c"
     ]
    },
    {
     "cell_type": "code",
     "collapsed": false,
     "input": [
      "b = \"Hello Python\"\n",
      "b = b[5:] +' '+ b[0:6]\n",
      "b = 'World'+b\n",
      "print b"
     ],
     "language": "python",
     "metadata": {},
     "outputs": [
      {
       "output_type": "stream",
       "stream": "stdout",
       "text": [
        "World Python Hello \n"
       ]
      }
     ],
     "prompt_number": 3
    },
    {
     "cell_type": "markdown",
     "metadata": {},
     "source": [
      "###4\ubc88 \ubb38\uc81c"
     ]
    },
    {
     "cell_type": "markdown",
     "metadata": {},
     "source": [
      "####1. s[0], s[0][0], s[0][0][0]\uc740 \uac01\uac01 \uc5b4\ub5a4 \uac12\uc774 \ub098\uc624\ub294\uc9c0 \ud655\uc778\ud558\uace0 \uadf8 \uc774\uc720\ub97c \ub098\ub984\ub300\ub85c \uc124\uba85\ud574 \ubcf4\uc2dc\uc624."
     ]
    },
    {
     "cell_type": "code",
     "collapsed": false,
     "input": [
      "s=\"python\"\n",
      "print s[0]\n",
      "print s[0][0]\n",
      "print s[0][0][0]"
     ],
     "language": "python",
     "metadata": {},
     "outputs": [
      {
       "output_type": "stream",
       "stream": "stdout",
       "text": [
        "p\n",
        "p\n",
        "p\n"
       ]
      }
     ],
     "prompt_number": 1
    },
    {
     "cell_type": "markdown",
     "metadata": {},
     "source": [
      "####\uc774\uc720: \ud30c\uc774\uc36c\uc740 \ubcc0\uc218 \ucc38\uc870\uc2dc \ubaa8\ub450 \ub808\ud37c\ub7f0\uc2a4\ub85c \ucc38\uc870\ud558\uae30 \ub54c\ubb38\uc5d0 s[0],s[0][0],s[0][0][0] \ubaa8\ub450 S list \uc758 \ucc98\uc74c\uac12\uc744 \ucc38\uc870\ud558\ubbc0\ub85c \uac19\uc740 \uac12\uc774 \ub098\uc624\uac8c \ub429\ub2c8\ub2e4. "
     ]
    },
    {
     "cell_type": "markdown",
     "metadata": {},
     "source": [
      "####2. s[-100], s[100]\uc740 \uac12\uc774 \ub098\uc624\ub294\uc9c0 \uc5d0\ub7ec\uac00 \ub098\uc624\ub294\uc9c0 \ud655\uc778\ud558\uace0 \uadf8 \uacb0\uacfc\uc5d0 \ub300\ud55c \uc774\uc720\ub97c \ub098\ub984\ub300\ub85c \uc124\uba85\ud574 \ubcf4\uc2dc\uc624."
     ]
    },
    {
     "cell_type": "code",
     "collapsed": false,
     "input": [
      "print s[-100]"
     ],
     "language": "python",
     "metadata": {},
     "outputs": [
      {
       "ename": "IndexError",
       "evalue": "string index out of range",
       "output_type": "pyerr",
       "traceback": [
        "\u001b[1;31m---------------------------------------------------------------------------\u001b[0m\n\u001b[1;31mIndexError\u001b[0m                                Traceback (most recent call last)",
        "\u001b[1;32m<ipython-input-2-598074702a96>\u001b[0m in \u001b[0;36m<module>\u001b[1;34m()\u001b[0m\n\u001b[1;32m----> 1\u001b[1;33m \u001b[1;32mprint\u001b[0m \u001b[0ms\u001b[0m\u001b[1;33m[\u001b[0m\u001b[1;33m-\u001b[0m\u001b[1;36m100\u001b[0m\u001b[1;33m]\u001b[0m\u001b[1;33m\u001b[0m\u001b[0m\n\u001b[0m",
        "\u001b[1;31mIndexError\u001b[0m: string index out of range"
       ]
      }
     ],
     "prompt_number": 2
    },
    {
     "cell_type": "code",
     "collapsed": false,
     "input": [
      "print s[100]"
     ],
     "language": "python",
     "metadata": {},
     "outputs": [
      {
       "ename": "IndexError",
       "evalue": "string index out of range",
       "output_type": "pyerr",
       "traceback": [
        "\u001b[1;31m---------------------------------------------------------------------------\u001b[0m\n\u001b[1;31mIndexError\u001b[0m                                Traceback (most recent call last)",
        "\u001b[1;32m<ipython-input-3-8a5646048cdd>\u001b[0m in \u001b[0;36m<module>\u001b[1;34m()\u001b[0m\n\u001b[1;32m----> 1\u001b[1;33m \u001b[1;32mprint\u001b[0m \u001b[0ms\u001b[0m\u001b[1;33m[\u001b[0m\u001b[1;36m100\u001b[0m\u001b[1;33m]\u001b[0m\u001b[1;33m\u001b[0m\u001b[0m\n\u001b[0m",
        "\u001b[1;31mIndexError\u001b[0m: string index out of range"
       ]
      }
     ],
     "prompt_number": 3
    },
    {
     "cell_type": "markdown",
     "metadata": {},
     "source": [
      "####\uc774\uc720: S[-100].S[100]\uc774 \ucc38\uc870\ud560 \uac1d\uccb4\uac00 \uc815\uc758\ub418\uc5b4 \uc788\uc9c0 \uc54a\uc2b5\ub2c8\ub2e4. "
     ]
    },
    {
     "cell_type": "markdown",
     "metadata": {},
     "source": [
      "####3. s[-100, 100]\uc740 \uac12\uc774 \ub098\uc624\ub294\uc9c0 \uc5d0\ub7ec\uac00 \ub098\uc624\ub294\uc9c0 \ud655\uc778\ud558\uace0 \uadf8 \uacb0\uacfc\uc5d0 \ub300\ud55c \uc774\uc720\ub97c \ub098\ub984\ub300\ub85c \uc124\uba85\ud574 \ubcf4\uc2dc\uc624."
     ]
    },
    {
     "cell_type": "code",
     "collapsed": false,
     "input": [
      "print s[-100][100]"
     ],
     "language": "python",
     "metadata": {},
     "outputs": [
      {
       "ename": "IndexError",
       "evalue": "string index out of range",
       "output_type": "pyerr",
       "traceback": [
        "\u001b[1;31m---------------------------------------------------------------------------\u001b[0m\n\u001b[1;31mIndexError\u001b[0m                                Traceback (most recent call last)",
        "\u001b[1;32m<ipython-input-4-77870877369a>\u001b[0m in \u001b[0;36m<module>\u001b[1;34m()\u001b[0m\n\u001b[1;32m----> 1\u001b[1;33m \u001b[1;32mprint\u001b[0m \u001b[0ms\u001b[0m\u001b[1;33m[\u001b[0m\u001b[1;33m-\u001b[0m\u001b[1;36m100\u001b[0m\u001b[1;33m]\u001b[0m\u001b[1;33m[\u001b[0m\u001b[1;36m100\u001b[0m\u001b[1;33m]\u001b[0m\u001b[1;33m\u001b[0m\u001b[0m\n\u001b[0m",
        "\u001b[1;31mIndexError\u001b[0m: string index out of range"
       ]
      }
     ],
     "prompt_number": 4
    },
    {
     "cell_type": "markdown",
     "metadata": {},
     "source": [
      "####\uc774\uc720: S[-100][100] \uc774 \ucc38\uc870\ud560 \uac1d\uccb4\uac00 \uc815\uc758\ub418\uc5b4 \uc788\uc9c0 \uc54a\uc2b5\ub2c8\ub2e4. "
     ]
    },
    {
     "cell_type": "markdown",
     "metadata": {},
     "source": [
      "####4. s[1:-1]\uc758 \uacb0\uacfc\ub97c \ud655\uc778\ud558\uace0 \uadf8 \uacb0\uacfc\uc5d0 \ub300\ud55c \uc774\uc720\ub97c \uc815\ud655\ud558\uac8c \uc124\uba85\ud558\uc2dc\uc624."
     ]
    },
    {
     "cell_type": "code",
     "collapsed": false,
     "input": [
      "s[1:-1]"
     ],
     "language": "python",
     "metadata": {},
     "outputs": [
      {
       "metadata": {},
       "output_type": "pyout",
       "prompt_number": 5,
       "text": [
        "'ytho'"
       ]
      }
     ],
     "prompt_number": 5
    },
    {
     "cell_type": "markdown",
     "metadata": {},
     "source": [
      "####\uc774\uc720: slicing \uae30\ub2a5\uc758 \uc2dc\uc791\uc810\uc778 p\ubd80\ubd84\uc744 \uc81c\uc678\ud558\uace0 - \ub85c \uc2dc\uc791\ud560\uc2dc \ub05d\uc5d0\uc11c\ubd80\ud130 \uc2dc\uc791\ud558\uac8c \ub418\ub294\ub370 \ub9c8\ucc2c\uac00\uc9c0\ub85c \ub05d\uc758 \uc2dc\uc791\uc810\uc778 n\uc774 \uc81c\uc678\ub418\uc11c \ucd9c\ub825\ub418\uc5c8\uc2b5\ub2c8\ub2e4."
     ]
    },
    {
     "cell_type": "markdown",
     "metadata": {},
     "source": [
      "####5. s[3:-3]\uc758 \uacb0\uacfc\ub97c \ud655\uc778\ud558\uace0 \uadf8 \uacb0\uacfc\uc5d0 \ub300\ud55c \uc774\uc720\ub97c \uc815\ud655\ud558\uac8c \uc124\uba85\ud558\uc2dc\uc624"
     ]
    },
    {
     "cell_type": "code",
     "collapsed": false,
     "input": [
      "s[3:-3]"
     ],
     "language": "python",
     "metadata": {},
     "outputs": [
      {
       "metadata": {},
       "output_type": "pyout",
       "prompt_number": 8,
       "text": [
        "''"
       ]
      }
     ],
     "prompt_number": 8
    },
    {
     "cell_type": "markdown",
     "metadata": {},
     "source": [
      "~~~\n",
      "   p  y  t  h  o  n \n",
      " 0  1  2  3  4  5   6 \n",
      "-6 -5 -4 -3 -2 -1\n",
      "~~~\n",
      "####\uc774\uc720 \uc704\ucc98\ub7fc \uc2ac\ub77c\uc774\uc2f1\uc758 \uc2dc\uc791\uc810\uacfc \uc885\ub8cc\uc810\uc774 \uc911\ubcf5\ub418\uc5b4 \uc911\uac04\uc5d0 \uc2ac\ub77c\uc774\uc2a4\ud560 \ubb38\uc790\uc5f4\uc774 \uc5c6\uc73c\ubbc0\ub85c \ube48\ubb38\uc790\uc5f4\uc774 \ucd9c\ub825\ub418\uc5c8\uc2b5\ub2c8\ub2e4. "
     ]
    },
    {
     "cell_type": "markdown",
     "metadata": {},
     "source": [
      "###5\ubc88 \ubb38\uc81c"
     ]
    },
    {
     "cell_type": "code",
     "collapsed": false,
     "input": [
      "for x in range(1,101):\n",
      "    if(x%2 == 1):\n",
      "        print x,\n",
      "    else:\n",
      "        continue"
     ],
     "language": "python",
     "metadata": {},
     "outputs": [
      {
       "output_type": "stream",
       "stream": "stdout",
       "text": [
        "1 3 5 7 9 11 13 15 17 19 21 23 25 27 29 31 33 35 37 39 41 43 45 47 49 51 53 55 57 59 61 63 65 67 69 71 73 75 77 79 81 83 85 87 89 91 93 95 97 99\n"
       ]
      }
     ],
     "prompt_number": 9
    },
    {
     "cell_type": "markdown",
     "metadata": {},
     "source": [
      "###6\ubc88 \ubb38\uc81c"
     ]
    },
    {
     "cell_type": "code",
     "collapsed": false,
     "input": [
      "sum = 0\n",
      "a = 2\n",
      "while a<=100:\n",
      "    sum += a\n",
      "    a += 2\n",
      "print sum"
     ],
     "language": "python",
     "metadata": {},
     "outputs": [
      {
       "output_type": "stream",
       "stream": "stdout",
       "text": [
        "2550\n"
       ]
      }
     ],
     "prompt_number": 10
    },
    {
     "cell_type": "markdown",
     "metadata": {},
     "source": [
      "###7\ubc88\ubb38\uc81c"
     ]
    },
    {
     "cell_type": "code",
     "collapsed": false,
     "input": [
      "print '\uc815\uc218\uc785\ub825?: ' \n",
      "num = int(raw_input())\n",
      "\n",
      "x = 2\n",
      "isPrime = True\n",
      "if num == 2:\n",
      "    print 2\n",
      "\n",
      "for n in range(2, num):\n",
      "    isPrime=True\n",
      "    for a in range(2, n):\n",
      "        if n % a == 0:\n",
      "            isPrime=False            \n",
      "        else:\n",
      "            continue        \n",
      "    if isPrime is True:\n",
      "        print n,"
     ],
     "language": "python",
     "metadata": {},
     "outputs": [
      {
       "output_type": "stream",
       "stream": "stdout",
       "text": [
        "\uc815\uc218\uc785\ub825?: \n"
       ]
      },
      {
       "name": "stdout",
       "output_type": "stream",
       "stream": "stdout",
       "text": [
        "50\n"
       ]
      },
      {
       "output_type": "stream",
       "stream": "stdout",
       "text": [
        "2 3 5 7 11 13 17 19 23 29 31 37 41 43 47\n"
       ]
      }
     ],
     "prompt_number": 1
    },
    {
     "cell_type": "markdown",
     "metadata": {},
     "source": [
      "##\uc18c\uac10"
     ]
    },
    {
     "cell_type": "markdown",
     "metadata": {},
     "source": [
      "\uae30\uc874 \uc790\ubc14\uc640 \uc81c\uc774\ucffc\ub9ac \uc2a4\ud06c\ub9bd\ud305 \ub7ad\uadc0\uc9c0\ub97c \uc6f9\ud504\ub85c\uadf8\ub798\ubc0d\uc744 \ud558\uba74\uc11c \uc57d\uac04\uc740 \uc775\uc219\ud574\uc838 \uc654\ub2e4\uace0 \uc0dd\uac01\ud588\uc9c0\ub9cc \ud30c\uc774\uc36c\uc740 \uc57d\uac04\uc740 \ub2e4\ub978 \ubc29\uc2dd\uc774\uc5b4\uc11c \ucc98\uc74c\uc5d0\ub294 \ub0af\uc124\uc5c8\uc9c0\ub9cc\n",
      "\uc9c1\uad00\uc801\uc778 \ubc29\uc2dd\uc758 \ud504\ub85c\uadf8\ub798\ubc0d \uc2a4\ud0c0\uc77c\ub355\ubd84\uc5d0 \uc775\uc219\ud574\uc9c0\ub824\uace0 \ub178\ub825\ud558\uace0 \uc788\ub2e4. \ud30c\uc774\uc36c\uc758 \ubaa8\ub4e0 \ubcc0\uc218\ub294 \ub808\ud37c\ub7f0\uc2a4\ub85c \ucc38\uc870\ub418\ub294 \uc774\uc57c\uae30\uac00 \ub73b\uc740 \uc774\ud574\uac00 \ub418\uc9c0\ub9cc \uccb4\uac10\uc801\uc73c\ub85c \uc644\ubcbd\ud55c \uc774\ud574\ub294 \ub418\uc9c0 \uc54a\uc740\uac70 \uac19\uc544 4\ubc88 \ubb38\uc81c\ub97c \ub300\ub2f5\ud558\uba74\uc11c\ub3c4 \uc57d\uac04 \ud655\uc2e0 \ud560\uc218 \uc5c6\uc5c8\uc2b5\ub2c8\ub2e4. \ud30c\uc774\uc36c\uc744 \uacf5\ubd80\ud558\uba70 \uc870\uc0ac\ub97c \ud574\ubcf8 \uacb0\uacfc \ud30c\uc774\uc36c \ubaa8\ub4c8\uc758 \ud655\uc7a5\uc131\uacfc \uadf8\ub85c \uc778\ud574 \ub2e4\ub978 \ub7ad\uadc0\uc9c0\uc640 \uc5f0\uad00\ud574\uc11c \uc4f0\ub294 \uc6a9\ub3c4\uac00 \ub9ce\uc740\ub370 \ub354\uc6b1\ub354 \uc219\ub828\ub41c \ud30c\uc774\uc36c \ud504\ub85c\uadf8\ub798\ubc0d\uc744 \ub098\uc911\uc5d0 \ud558\uace0 \uc2f6\uc5b4\uc84b\uc2b5\ub2c8\ub2e4. \ud574\uc678\uc5d0\uc11c\ub294 \ud30c\uc774\uc36c\uc5d0 \uad00\ud55c \uc5f0\uad6c\uac00 \ud65c\ubc1c\ud574 Jython Cython \ub4f1 \uc5b8\uc5b4\ubcc4 \ud655\uc7a5\uc2a4\ud06c\ub9bd\ud2b8\ub85c \uc4f0\uc774\ub294 \uacbd\uc6b0\uac00 \ub9ce\uc740\ub370 \ub098\uc911\uc5d0 \uae30\ud68c\uac00 \ub41c\ub2e4\uba74 \ud504\ub85c\uc81d\ud2b8\ub97c \ud55c\ubc88 \uc9c4\ud589\ud558\uace0 \uc2f6\ub2e4. "
     ]
    }
   ],
   "metadata": {}
  }
 ]
}