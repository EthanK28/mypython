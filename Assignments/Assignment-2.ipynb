{
 "metadata": {
  "name": "",
  "signature": "sha256:f19aefb0ac1e27718ee0e5bbc09c98a6189e935877cad5b8767b71de8a00bce1"
 },
 "nbformat": 3,
 "nbformat_minor": 0,
 "worksheets": [
  {
   "cells": [
    {
     "cell_type": "markdown",
     "metadata": {},
     "source": [
      "##\uc2a4\ud06c\ub9bd\ud2b8 \ud504\ub85c\uadf8\ub798\ubc0d 2\ubc88\uacfc\uc81c \n",
      "##2008160006 \uac15\uc740\uc11d\n"
     ]
    },
    {
     "cell_type": "markdown",
     "metadata": {},
     "source": [
      "###1. \ub2e4\uc74c 6 \uac1c\uc758 Expression\uc5d0 \ub300\ud574 Evaluation \uacb0\uacfc \uac12\uc744 \ucd9c\ub825\ud558\uace0, \ud574\ub2f9 \uacb0\uacfc\uac00 \ub098\uc628 \uc774\uc720\uc5d0 \ub300\ud574 \uc124\uba85\ud558\uc2dc\uc624"
     ]
    },
    {
     "cell_type": "code",
     "collapsed": false,
     "input": [
      "print eval('1 and 2 and 3 and 4')\n",
      "print eval('1 or 2 or 3 or 4')\n",
      "print eval('1 and 2 or 3 and 4')\n",
      "print eval('(1 and 2) or (3 and 4)')\n",
      "print eval('1 or 2 and 3 or 4')\n",
      "print eval('(1 or 2) and (3 or 4)')\n"
     ],
     "language": "python",
     "metadata": {},
     "outputs": [
      {
       "output_type": "stream",
       "stream": "stdout",
       "text": [
        "4\n",
        "1\n",
        "2\n",
        "2\n",
        "1\n",
        "3\n"
       ]
      }
     ],
     "prompt_number": 1
    },
    {
     "cell_type": "markdown",
     "metadata": {},
     "source": [
      "####\uccab\ubc88\uc9f8\uc758 \uacbd\uc6b0\uc5d0\ub294 And\ub294 \ubaa8\ub4e0 \uac12\uc774 \ucc38\uac12\uc774 \ub098\uc640\uc57c \ud558\uae30\ub54c\ubb38\uc5d0  4\ubc88\uae4c\uc9c0 \uc5f0\uc0b0\ud558\uac8c \ub418\uc5b4 4\uac00 \ucd9c\ub825\ud558\ub418\uc5c8\ub2e4\n",
      "####2\ubc88\uc9f8\uc758 \uacbd\uc6b0\ub294 \ud558\ub098\ub9cc \ub9cc\uc871\ud574\ub3c4 \ub4a4\uc5d0 \uc2dd\uc744 \uc5f0\uc0b0\ud560 \ud544\uc694 \uc5c6\uc774 \ud56d\uc0c1 \ucc38\uac12\uc774 \ub418\ubbc0\ub85c 1\ubc88\uc5d0\uc11c \uc5f0\uc0b0\uc744 \uc815\uc9c0\ud558\uace0 \ucd9c\ub825\ub418\uc5c8\ub2e4.\n",
      "####3\ubc88\uc9f8\uc758 \uacbd\uc6b0\ub294 \uc55e\uc5d0 1 and 2 \ub9cc \ucc38\uac12\uc774 \ub418\uc5b4\ub3c4 \ub4a4\uc5d0 \uc5f0\uc0b0\ud560 \ud544\uc694\uac00 \uc5c6\uae30\ub54c\ubb38\uc5d0 1 and 2 \uc5d0\uc11c 2\uae4c\uc9c0 \uacc4\uc0b0\ud55c\ud6c4 \ucd9c\ub825\ub418\uc5c8\ub2e4.\n",
      "####4\ubc88\uc9f8\uc758 \uacbd\uc6b0\ub3c4 \uc704\uc5d0 \uacbd\uc6b0\uc640 \ube44\uc2b7\ud558\uac8c 1 and 2\uc758 \uac12\uc774 \ucc38\uc774\uae30 \ub54c\ubb38\uc5d0 or\ub85c \uc5f0\uacb0\ub41c \ubd80\ubd84\uc740 \uc0dd\ub7b5\ud558\uc600\ub2e4.\n",
      "####5\ubc88\uc9f8\uc758 \uacbd\uc6b0 \uc5f0\uc0b0\uc790 \uc6b0\uc120\uc21c\uc704\uc5d0 \uc758\ud574 \uc911\uac04\uc5d0 and \uac12\uc774 \uba3c\uc800 \uacc4\uc0b0\ub418\uace0 \uc55e\uc5d0 or\uac12\uc774 \uacc4\uc0b0\ub418\uc5c8\ub2e4. \uccab\ubc88\uc7ac \uac12\uc774 \ucc38\uac12\uc774\ubbc0\ub85c 1\uc744 \ucd9c\ub825\ud558\uace0 \ub4a4\uc5d0\ubd80\ubd84\uc740 \uc5f0\uc0b0\ud558\uc9c0 \uc54a\uc558\ub2e4.\n",
      "####6\ubc88\uc9f8\uc758 \uacbd\uc6b0\ub294 \uac00\ub85c\uc5d0 \uc758\ud574 \uc5f0\uc0b0\uc790 \uc6b0\uc120\uc21c\uc704\uac00 \ubc14\ub00c\ubbc0\ub85c \uac00\ub85c \uc548\uc5d0 \uac12\ubd80\ud130 \uc6b0\uc120 \uacc4\uc0b0\ud558\uc600\ub2e4 and\ub85c \uc5f0\uacb0\ub418\uc5b4\uc788\uae30\uc5d0 \uc55e\uc5d0 \ub450\uc2dd\uc758 \ucc38\uac12\uc744 \ud655\uc778\ud558\uace0 \ub4a4\uc5d0\uae4c\uc9c0 \uc5f0\uc0b0 \ud655\uc778\ud55c\ud6c4 \ucd9c\ub825\uc744 \ud558\uc5ec 3\uc774 \ub098\uc654\ub2e4."
     ]
    },
    {
     "cell_type": "markdown",
     "metadata": {},
     "source": [
      "###2. 7/5, -7/5, -(7/5)\uc758 \uacb0\uacfc\ub97c \ud655\uc778\ud558\uace0 \uac01\uac01\uc758 \uacb0\uacfc\uac00 \uc65c \uadf8\ub807\uac8c \ub098\uc624\ub294 \uc9c0 \uc124\uba85\ud558\uc2dc\uc624"
     ]
    },
    {
     "cell_type": "code",
     "collapsed": false,
     "input": [
      "print 7/5, -7/5, -(7/5)"
     ],
     "language": "python",
     "metadata": {},
     "outputs": [
      {
       "output_type": "stream",
       "stream": "stdout",
       "text": [
        "1 -2 -1\n"
       ]
      }
     ],
     "prompt_number": 2
    },
    {
     "cell_type": "markdown",
     "metadata": {},
     "source": [
      "####\uccab\ubc88\uc9f8 \uacb0\uacfc: \uc778\ud2b8\ub85c \uacc4\uc0b0\ud558\uba74\uc11c \uc18c\uc218\uc810 1\uc790\ub9ac\uc758 \uc22b\uc790\ub97c \ubc84\ub837\ub2e4.\n",
      "####\ub450\ubc88\uc9f8 \uacb0\uacfc: \uacc4\uc0b0\ud558\uba74 -1.4\uac00 \ub098\uc624\ub294\ub370 \ud30c\uc774\uc36c\uc740 \uc218\uc9c1\uc120\uc0c1\uc73c\ub85c \uc67c\ucabd\uc73c\ub85c \uac00\uac8c\ub054 \ub418\uc5b4\uc788\uae30\uc5d0 -1.4\ubcf4\ub2e4 \uc791\uc740 \uc74c\uc758 \uc815\uc218\uc778 -2\uac00 \ub098\uc624\uac8c \ub418\uc5c8\ub2e4. \n",
      "####\uc138\ubc88\uc9f8 \uacb0\uacfc: \uac00\ub85c\ub85c \uc778\ud574 \uc548\ucabd \uc5f0\uc0b0\ubbf8 \uba3c\uc800 \uc9c4\ud589\ub418\uc5b4 1\uc5d0\uc11c \uc74c\uc218\ub85c -1\uc774 \ub418\uc5c8\ub2e4."
     ]
    },
    {
     "cell_type": "markdown",
     "metadata": {},
     "source": [
      "###3. \ud0a4\ubcf4\ub4dc\ub85c \uc815\uc218\uac12\uc744 \uc785\ub825 \ubc1b\uace0 \uadf8 \uac12\uc774 \uc591\uc218\uc778\uc9c0 \uc74c\uc218\uc778\uc9c0\ub97c \ube44\ud2b8 \uc5f0\uc0b0\uc790\ub97c \uc774\uc6a9\ud558\uc5ec \ud310\ub2e8\ud558\ub294 \ud504\ub85c\uadf8\ub7a8\uc744 \uc791\uc131\ud558\uc2dc\uc624."
     ]
    },
    {
     "cell_type": "code",
     "collapsed": false,
     "input": [
      "def discriminator(num):\n",
      "    if(num > 0 ):\n",
      "        result = (num >> len(bin(int(num))[2:])-1)\n",
      "        return result\n",
      "    elif (num < 0):\n",
      "        return (num >> len(bin(int(num))[3:]))\n",
      "    else:\n",
      "        return 0\n",
      "        \n",
      "switch_case = {\n",
      "        1 : \"\uc591\uc218\",\n",
      "        -1 : \"\uc74c\uc218\",\n",
      "        0 : \"\uc601\"\n",
      "        }\n",
      "\n",
      "while True:\n",
      "    input_nu = input(u\"\uc22b\uc790 \uc785\ub825: \")        \n",
      "    input_num = discriminator(input_nu)\n",
      "    print input_nu,\"\ud310\ubcc4: \", switch_case[input_num]\n",
      "    if (input_nu == 0):\n",
      "        break\n",
      "        "
     ],
     "language": "python",
     "metadata": {},
     "outputs": [
      {
       "name": "stdout",
       "output_type": "stream",
       "stream": "stdout",
       "text": [
        "\uc22b\uc790 \uc785\ub825: 20\n"
       ]
      },
      {
       "output_type": "stream",
       "stream": "stdout",
       "text": [
        "20 \ud310\ubcc4:  \uc591\uc218\n"
       ]
      },
      {
       "name": "stdout",
       "output_type": "stream",
       "stream": "stdout",
       "text": [
        "\uc22b\uc790 \uc785\ub825: -35\n"
       ]
      },
      {
       "output_type": "stream",
       "stream": "stdout",
       "text": [
        "-35 \ud310\ubcc4:  \uc74c\uc218\n"
       ]
      },
      {
       "name": "stdout",
       "output_type": "stream",
       "stream": "stdout",
       "text": [
        "\uc22b\uc790 \uc785\ub825: 0\n"
       ]
      },
      {
       "output_type": "stream",
       "stream": "stdout",
       "text": [
        "0 \ud310\ubcc4:  \uc601\n"
       ]
      }
     ],
     "prompt_number": 2
    },
    {
     "cell_type": "markdown",
     "metadata": {},
     "source": [
      "####\ud568\uc218\ub97c \ub9cc\ub4e4\uc5b4 \ud30c\uc774\uc36c\ub0b4\uc5d0 \ub0b4\uc7a5\ub41c \ud568\uc218\ub85c \uc774\uc9c4\uc218\ub85c \ubc14\uafbc\ud6c4 \uc774\uc9c4\uc218 \uc790\ub9ac\uc218\ub9cc\ud07c\uc758 \uc790\ub9ac\ub97c \uc62e\uae34\ud6c4 (\uc591\uc218\uc758 \uacbd\uc6b0\ub294 \ud55c\uc790\ub9ac\uc218 \uc801\uac8c \uc774\ub3d9) \ub098\uc628 \uac12\uc5d0 \ub530\ub77c 1 \uc774\uba74 \uc591\uc218 -1\uc774\uba74 \uc74c\uc218 0\uc774\uba74 \ubb34\ud55c\ub8e8\ud504\ub97c \uc815\uc9c0\ud558\uac8c break \ucc98\ub9ac\ud558\uc600\ub2e4."
     ]
    },
    {
     "cell_type": "markdown",
     "metadata": {},
     "source": [
      "###4. \ub450 \uac1c\uc758 \ub9ac\uc2a4\ud2b8\ub97c \uc778\uc790\ub85c \ubc1b\uc544\uc11c \uadf8 \ub450 \uac1c\uc758 \ub9ac\uc2a4\ud2b8\uc5d0 \ub300\ud55c '\ud569\uc9d1\ud569'\uc744 \ubc18\ud658\ud558\ub294 \ud568\uc218 list_union(lista, listb)\ub97c \uc791\uc131\ud558\uc2dc\uc624."
     ]
    },
    {
     "cell_type": "code",
     "collapsed": false,
     "input": [
      "def list_union (l1, l2):\n",
      "    relist=[]\n",
      "    for x in l1+l2:\n",
      "        if x not in relist:\n",
      "            relist.append(x)\n",
      "    return relist\n",
      "    \n",
      "print list_union ([1,2,3], [1,2,4])"
     ],
     "language": "python",
     "metadata": {},
     "outputs": [
      {
       "output_type": "stream",
       "stream": "stdout",
       "text": [
        " [1, 2, 3, 4]\n"
       ]
      }
     ],
     "prompt_number": 2
    },
    {
     "cell_type": "markdown",
     "metadata": {},
     "source": [
      "####\ud568\uc218\uc5d0\uc11c \ub9ac\uc2a4\ud2b8\uc5d0\uc11c \ub450\uac12\uc744 \ubd88\ub7ec\uc640 \ube48 \uc0c8\ub85c\uc6b4 \ub9ac\uc2a4\ud2b8\ub97c \ub9cc\ub4e0\ud6c4 \ub450\uac1c \uc548\uc5d0 \uc788\ub294 \uac12\uc5d0\uc11c \uc911\ubcf5\ub418\uc9c0 \uc54a\ub294\uac12\ub9cc Append \uae30\ub2a5\uc744 \ud1b5\ud574 \ucd94\uac00\ud55c\ud6c4 \ub9ac\ud134\ud574\uc11c \ucd9c\ub825\ud558\uc600\ub2e4"
     ]
    },
    {
     "cell_type": "markdown",
     "metadata": {},
     "source": [
      "###5. \uacbd\ub85c\uc5d0 \ud574\ub2f9\ud558\ub294 \ubb38\uc790\uc5f4 1\uac1c\ub97c \uc785\ub825 \ubc1b\uc544 \uadf8 \uc548\uc5d0 \ub514\ub809\ud1a0\ub9ac \uacbd\ub85c\uba85\uacfc \ud30c\uc77c\uba85\uc744 \ubd84\ub9ac\ud558\uc5ec \ub9ac\uc2a4\ud2b8\ub85c \ubc18\ud658\ud558\ub294 \ud568\uc218 div_path(s)\ub97c \uc791\uc131\ud558\uc2dc\uc624"
     ]
    },
    {
     "cell_type": "code",
     "collapsed": false,
     "input": [
      "def div_path(s):\n",
      "    result = s.rsplit('/', 1)\n",
      "    return result\n",
      "print div_path('/usr/local/bin/python')\n",
      "print div_path('/home/chulsoo/test.txt')"
     ],
     "language": "python",
     "metadata": {},
     "outputs": [
      {
       "output_type": "stream",
       "stream": "stdout",
       "text": [
        "['/usr/local/bin', 'python']\n",
        "['/home/chulsoo', 'test.txt']\n"
       ]
      }
     ],
     "prompt_number": 4
    },
    {
     "cell_type": "markdown",
     "metadata": {},
     "source": [
      "####rsplit \uae30\ub2a5\uc744 \ud1b5\ud574\uc11c \uc624\ub978\ucabd\uc5d0\uc11c \uccab\ubc88\uc9f8\ub85c / \uac12\uacfc \uc77c\uce58\ud558\ub294\uac83\uc744 \ucc3e\uc544 \ubd84\ub9ac\ud558\uc600\ub2e4."
     ]
    },
    {
     "cell_type": "markdown",
     "metadata": {},
     "source": [
      "###6. \uc6f9 URL\ub85c \uc9c0\uc815\ub41c \uc6f9\ud398\uc774\uc9c0\ub97c \ubb38\uc790\uc5f4\ub85c \uac00\uc838\uc640 1) \ubaa8\ub4e0 HTML \ud0dc\uadf8 \ubc0f CSS\uc640 Javascript\ub97c \uc81c\uc678\ud55c \uc21c\uc218 \ud14d\uc2a4\ud2b8\ub9cc\uc744 \ucd9c\ub825\ud558\uace0, 2) \uadf8 \uc21c\uc218 \ud14d\uc2a4\ud2b8 \uc548\uc5d0 \uc874\uc7ac\ud558\ub294 \ub2e8\uc5b4\uac00 \ucd1d \uba87\uac1c\uc778\uc9c0 \ucd9c\ub825\ud558\ub294 \ud504\ub85c\uadf8\ub7a8\uc744 \uc791\uc131\ud558\uc2dc\uc624."
     ]
    },
    {
     "cell_type": "code",
     "collapsed": false,
     "input": [
      "import urllib\n",
      "s = urllib.urlopen('http://www.python.org/').read()\n",
      "\n",
      "b = s.splitlines()\n",
      "#\ube48\uce78 \ubaa8\ub450 ''\ub85c \ub9cc\ub4e4\uae30\n",
      "for x in range(0, len(b)):\n",
      "    b[x] = b[x].strip()\n",
      "    \n",
      "count = 0\n",
      "while True:\n",
      "    if(b[count] == ''):\n",
      "        b.pop(count)\n",
      "        count = 0\n",
      "    else:\n",
      "        count = count+1    \n",
      "    if(('/html' in b[count])==True):\n",
      "        break \n",
      "\n",
      "\n",
      "b = '\\n'.join(b)\n",
      "\n",
      "b = b.split('</li>')\n",
      "b = ''.join(b)\n",
      "\n",
      "b = b.split('</ul')\n",
      "b = ''.join(b)\n",
      "\n",
      "b = b.split('</a>')\n",
      "b = ''.join(b)\n",
      "\n",
      "b = b.split('</h1>')\n",
      "b = ''.join(b)\n",
      "\n",
      "b = b.split('</label>')\n",
      "b = ''.join(b)\n",
      "\n",
      "b = b.split('</span>')\n",
      "b = ''.join(b)\n",
      "\n",
      "b = b.split('</div>')\n",
      "b = ''.join(b)\n",
      "\n",
      "b = b.split('</script>')\n",
      "b = ''.join(b)\n",
      "\n",
      "b = b.split('</style>')\n",
      "b = ''.join(b)\n",
      "\n",
      "b = b.split('&#9650;')\n",
      "b = ''.join(b)\n",
      "\n",
      "b = b.split(')')\n",
      "b = ''.join(b)\n",
      "\n",
      "\n",
      "\n",
      "\n",
      "\n",
      "def spliter(str):\n",
      "    start = str.find('<')\n",
      "    last = str.find('>')\n",
      "    str = str[last+1:]\n",
      "    return str\n",
      "\n",
      "b = b.splitlines()\n",
      "for x in range(0, len(b)):\n",
      "    for y in range(0, len(b[x])):\n",
      "        b[x] = spliter(b[x])\n",
      "\n",
      "i = len(b)\n",
      "count = 0\n",
      "while count < i:\n",
      "    if(b[count] == ''):\n",
      "        b.pop(count)\n",
      "        count = 0\n",
      "        i = i-1\n",
      "    count = count+1\n",
      "\n",
      "b = ''.join(b)\n",
      "import string \n",
      "d = string.whitespace\n",
      "count = 0\n",
      "for ch in b:\n",
      "    if ch in d:\n",
      "        count = count+1\n",
      "print \"\ub2e8\uc5b4\uc218:\",count    \n",
      "\n"
     ],
     "language": "python",
     "metadata": {},
     "outputs": [
      {
       "output_type": "stream",
       "stream": "stdout",
       "text": [
        "\ub2e8\uc5b4\uc218: 442\n"
       ]
      }
     ],
     "prompt_number": 5
    },
    {
     "cell_type": "markdown",
     "metadata": {},
     "source": [
      "####\ub2eb\ub294 \ud0dc\uadf8\ub4e4\uc744 \uc774\uc6a9\ud574\uc11c \uba3c\uc800 \uac01\ud0dc\uadf8\ub4e4\uc758 \uaf2c\ub9ac\ub97c \uc790\ub978\ud6c4 \ucee8\ud150\uce20 \ub4a4\uc758 \ud0dc\uadf8\ub4e4\uc774 \ub098\uc624\uc9c0 \uc54a\uac8c \uba3c\uc800 \uc81c\uac70\ud558\uc600\ub2e4 \uadf8\ud6c4 \uac01\uac01\uc758 \ub0a8\uaca8\uc9c4 \ubb38\uc790\uc5f4\ub4e4\uc744 \ub9ac\uc2a4\ud2b8 \ucc98\ub9ac\ud558\ub294 \ub9ac\uc2a4\ud2b8 \ucc98\uc74c\ubd80\ud130 '>' \ub4a4\uc5d0\uc55e\uae4c\uc9c0\uc758 \uac12\uc744 \uc790\ub974\ub294 \ud568\uc218\ub97c \uc774\uc6a9\ud558\uc5ec \ucee8\ud150\uce20 \ub0b4\uc6a9\ub9cc \ub098\uc624\uac8c \ud558\ub824\ub294 \uc758\ub3c4 \uc600\uc73c\ub098 \uc0dd\uac01\ub300\ub85c \uacb0\uacfc\uac00 \uacc4\uc18d\ud574\uc11c \ub098\uc624\uc9c0 \uc54a\uc558\ub2e4."
     ]
    },
    {
     "cell_type": "markdown",
     "metadata": {},
     "source": [
      "\uc18c\uac10: 1\ubc88\ubd80\ud130 5\ubc88\uae4c\uc9c0\uc758 \ubb38\uc81c\ub294 \uc5b4\ub835\uc9c0 \uc54a\uac8c \ud560\uc218 \uc788\uc5c8\uc73c\ub098 6\ubc88\ubb38\uc81c\uc5d0\uc11c \ub9c9\ud614\ub2e4. \ub9c8\uc9c0\ub9c9 \uae4c\uc9c0 \ud574\uacb0\ud558\ub824\uace0 \uc5ec\ub7ec\ubc29\uba74 \uc73c\ub85c \ub178\ub825\ud558\uc600\ub098 \uc6d0\ud558\ub294 \uacb0\uacfc\uac12\uc774 \ub098\uc624\uc9c0 \uc54a\uc544 \uacb0\uad6d \ubbf8\ud574\uacb0\uc0c1\ud0dc\ub85c \uacfc\uc81c\ub97c \uc81c\ucd9c\ud558\uac8c \ub418\uc5c8\ub2e4. 7\ubc88\uacfc\uc81c\ub97c \ud574\uacb0\ud558\uae30\uc704\ud574 \uc8fc\ub9d0 \ub300\ubd80\ubd84\uc744 \ud22c\uc790\ud558\uc600\uace0 \ub2e4\ub978 \ud30c\uc774\uc36c \ud568\uc218\ub4e4\uc744 \ucc3e\uc73c\ub824\uace0 \ub178\ub825\ud588\uc73c\ub098 \uc790\ub3d9 \ud30c\uc2f1\ud558\ub294 \ub77c\uc774\ube0c\ub7ec\ub9ac\ub294 \uc788\uc9c0\ub9cc \ud574\uacb0\uc5d0 \ub3c4\uc6c0\ub418\ub294 \ud568\uc218\ub4e4\uc740 \ucc3e\uc744\uc218 \uc5c6\uc5c8\ub2e4. \ub2e4\ub978\uc0ac\ub78c\ub4e4\uc740 \uc5b4\ub5bb\uac8c \ucc98\ub9ac\ud558\uc600\ub294\uc9c0 \uad81\uae08\ud558\ub2e4."
     ]
    }
   ],
   "metadata": {}
  }
 ]
}