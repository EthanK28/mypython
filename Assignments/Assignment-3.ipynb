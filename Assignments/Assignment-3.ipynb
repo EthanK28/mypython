{
 "metadata": {
  "name": "",
  "signature": "sha256:d27b62577d9d05ebe31831d21905f840dcc2f8e0188f1778a48156c95e37ce8a"
 },
 "nbformat": 3,
 "nbformat_minor": 0,
 "worksheets": [
  {
   "cells": [
    {
     "cell_type": "markdown",
     "metadata": {},
     "source": [
      "##\uc2a4\ud06c\ub9bd\ud2b8 \ud504\ub85c\uadf8\ub798\ubc0d 3\ubc88\uacfc\uc81c \n",
      "##2008160006 \uac15\uc740\uc11d"
     ]
    },
    {
     "cell_type": "markdown",
     "metadata": {},
     "source": [
      "###1. L=[1, 2, 3, 4, 5]\uc77c \ub54c \ub2e4\uc74c \uac01 \ubb38\uc7a5\uc744 \uc218\ud589\ud55c \ud6c4\uc758 \uacb0\uacfc\ub97c \ubcf4\uace0 \ub0a9\ub4dd\ud560 \ub9cc\ud55c \uc774\uc720\ub97c \uc124\uba85\ud558\uc2dc\uc624."
     ]
    },
    {
     "cell_type": "code",
     "collapsed": false,
     "input": [
      "L=[1, 2, 3, 4, 5]\n",
      "#1)\n",
      "L[1:3] = [100]\n",
      "print L"
     ],
     "language": "python",
     "metadata": {},
     "outputs": [
      {
       "output_type": "stream",
       "stream": "stdout",
       "text": [
        "[1, 100, 4, 5]\n"
       ]
      }
     ],
     "prompt_number": 1
    },
    {
     "cell_type": "markdown",
     "metadata": {},
     "source": [
      "1\ubc88\uacfc 3\ubc88 \uc704\uce58 \uc0ac\uc774\uc758 \uac12\uc778 2,3\uc758 \uc704\uce58\uc5d0 100\uc758 \uac12\uc744 \uac00\uc9c0\ub294 \ub9ac\uc2a4\ud2b8\ub97c \ub300\uc785\ud558\uc600\ub2e4\n",
      "\ub9ac\uc2a4\ud2b8\ub85c \uc0bd\uc774\ud588\uc73c\ub098 \ub9ac\uc2a4\ud2b8\uc5d0\ub294 \uc77c\ubc18\uac12\ucc98\ub7fc \ub4e4\uc5b4\uac04\uac83\uc744 \ubcfc\uc218 \uc787\ub2e4"
     ]
    },
    {
     "cell_type": "code",
     "collapsed": false,
     "input": [
      "#2)\n",
      "L=[1, 2, 3, 4, 5]\n",
      "L[1:3] = [(100)]\n",
      "print L"
     ],
     "language": "python",
     "metadata": {},
     "outputs": [
      {
       "output_type": "stream",
       "stream": "stdout",
       "text": [
        "[1, 100, 4, 5]\n"
       ]
      }
     ],
     "prompt_number": 15
    },
    {
     "cell_type": "markdown",
     "metadata": {},
     "source": [
      "\uc704\uc640 \uac19\uc740 \uc6d0\ub9ac\ub85c 2,3\uc774 \uc800\uc7a5\ub41c \uc704\uce58\uc5d0 \ub9ac\uc2a4\ud2b8\uc548\uc5d0 100\uc774\ub77c\ub294 \uac12\uc744 \ud29c\ud50c\uc744 \ub300\uc785\uc2dc\ucf2f\ub2e4\n",
      "\ud29c\ud50c\ub85c \ub300\uc785\ud588\uc73c\ub098 \ub9ac\uc2a4\ud2b8\uc5d0\ub294 \uc77c\ubc18 \uac12\ucc98\ub7fc \ub4e4\uc5b4\uac04\uac83\uc744 \ubcfc\uc218 \uc788\ub2e4. "
     ]
    },
    {
     "cell_type": "code",
     "collapsed": false,
     "input": [
      "#3)\n",
      "L=[1, 2, 3, 4, 5]\n",
      "L[1:3] = 100\n",
      "print L"
     ],
     "language": "python",
     "metadata": {},
     "outputs": [
      {
       "ename": "TypeError",
       "evalue": "can only assign an iterable",
       "output_type": "pyerr",
       "traceback": [
        "\u001b[1;31m---------------------------------------------------------------------------\u001b[0m\n\u001b[1;31mTypeError\u001b[0m                                 Traceback (most recent call last)",
        "\u001b[1;32m<ipython-input-17-c0499de6d605>\u001b[0m in \u001b[0;36m<module>\u001b[1;34m()\u001b[0m\n\u001b[0;32m      1\u001b[0m \u001b[1;31m#3)\u001b[0m\u001b[1;33m\u001b[0m\u001b[1;33m\u001b[0m\u001b[0m\n\u001b[0;32m      2\u001b[0m \u001b[0mL\u001b[0m\u001b[1;33m=\u001b[0m\u001b[1;33m[\u001b[0m\u001b[1;36m1\u001b[0m\u001b[1;33m,\u001b[0m \u001b[1;36m2\u001b[0m\u001b[1;33m,\u001b[0m \u001b[1;36m3\u001b[0m\u001b[1;33m,\u001b[0m \u001b[1;36m4\u001b[0m\u001b[1;33m,\u001b[0m \u001b[1;36m5\u001b[0m\u001b[1;33m]\u001b[0m\u001b[1;33m\u001b[0m\u001b[0m\n\u001b[1;32m----> 3\u001b[1;33m \u001b[0mL\u001b[0m\u001b[1;33m[\u001b[0m\u001b[1;36m1\u001b[0m\u001b[1;33m:\u001b[0m\u001b[1;36m3\u001b[0m\u001b[1;33m]\u001b[0m \u001b[1;33m=\u001b[0m \u001b[1;36m100\u001b[0m\u001b[1;33m\u001b[0m\u001b[0m\n\u001b[0m\u001b[0;32m      4\u001b[0m \u001b[1;32mprint\u001b[0m \u001b[0mL\u001b[0m\u001b[1;33m\u001b[0m\u001b[0m\n",
        "\u001b[1;31mTypeError\u001b[0m: can only assign an iterable"
       ]
      }
     ],
     "prompt_number": 17
    },
    {
     "cell_type": "markdown",
     "metadata": {},
     "source": [
      "\uad6c\ud68d\uc744 \uc9dc\ub978\uad6c\uac04\uc740 Iterable \ud615(\ub9ac\uc2a4\ud2b8, \ud29c\ud50c, \uc0ac\uc804\ud615 \ub4f1)\uc774 \uc544\ub2c8\uba74 \ub4e4\uc5b4\uac08\uc218 \uc5c6\ub2e4. \uad6c\uac04\uc5d0 \uc790\uccb4\uac00 \ub808\ud37c\ub7f0\uc2a4\uac12\uc778\ub370 \ub2e8\uc77c\uac12\uc778 100\uc740 \ub300\uc785\ud560\uc218 \uc5c6\ub294\uac83 \uac19\ub2e4."
     ]
    },
    {
     "cell_type": "code",
     "collapsed": false,
     "input": [
      "#4)\n",
      "L=[1, 2, 3, 4, 5]\n",
      "L[1:3] = (100)\n",
      "print L"
     ],
     "language": "python",
     "metadata": {},
     "outputs": [
      {
       "ename": "TypeError",
       "evalue": "can only assign an iterable",
       "output_type": "pyerr",
       "traceback": [
        "\u001b[1;31m---------------------------------------------------------------------------\u001b[0m\n\u001b[1;31mTypeError\u001b[0m                                 Traceback (most recent call last)",
        "\u001b[1;32m<ipython-input-19-445ac58fce32>\u001b[0m in \u001b[0;36m<module>\u001b[1;34m()\u001b[0m\n\u001b[0;32m      1\u001b[0m \u001b[1;31m#4)\u001b[0m\u001b[1;33m\u001b[0m\u001b[1;33m\u001b[0m\u001b[0m\n\u001b[0;32m      2\u001b[0m \u001b[0mL\u001b[0m\u001b[1;33m=\u001b[0m\u001b[1;33m[\u001b[0m\u001b[1;36m1\u001b[0m\u001b[1;33m,\u001b[0m \u001b[1;36m2\u001b[0m\u001b[1;33m,\u001b[0m \u001b[1;36m3\u001b[0m\u001b[1;33m,\u001b[0m \u001b[1;36m4\u001b[0m\u001b[1;33m,\u001b[0m \u001b[1;36m5\u001b[0m\u001b[1;33m]\u001b[0m\u001b[1;33m\u001b[0m\u001b[0m\n\u001b[1;32m----> 3\u001b[1;33m \u001b[0mL\u001b[0m\u001b[1;33m[\u001b[0m\u001b[1;36m1\u001b[0m\u001b[1;33m:\u001b[0m\u001b[1;36m3\u001b[0m\u001b[1;33m]\u001b[0m \u001b[1;33m=\u001b[0m \u001b[1;33m(\u001b[0m\u001b[1;36m100\u001b[0m\u001b[1;33m)\u001b[0m\u001b[1;33m\u001b[0m\u001b[0m\n\u001b[0m\u001b[0;32m      4\u001b[0m \u001b[1;32mprint\u001b[0m \u001b[0mL\u001b[0m\u001b[1;33m\u001b[0m\u001b[0m\n",
        "\u001b[1;31mTypeError\u001b[0m: can only assign an iterable"
       ]
      }
     ],
     "prompt_number": 19
    },
    {
     "cell_type": "markdown",
     "metadata": {},
     "source": [
      "(100)\uc740 \ud29c\ud50c\uc774 \uc544\ub2cc \uc77c\ubc18\uac12\uc73c\ub85c \uc5f0\uc0b0\ub418\ubbc0\ub85c \uc704\uc640 \uac19\uc740\uc774\uc720\ub85c 1:3\uad6c\uac04\uc5d0 \uc0c1\uc218\uc778 100\uc744 \ub300\uc785\ud560\uc218 \uc5c6\ub2e4. "
     ]
    },
    {
     "cell_type": "code",
     "collapsed": false,
     "input": [
      "#5)\n",
      "L=[1, 2, 3, 4, 5]\n",
      "L[1:3] = (100, 101, 102)\n",
      "print L"
     ],
     "language": "python",
     "metadata": {},
     "outputs": [
      {
       "output_type": "stream",
       "stream": "stdout",
       "text": [
        "[1, 100, 101, 102, 4, 5]\n"
       ]
      }
     ],
     "prompt_number": 20
    },
    {
     "cell_type": "markdown",
     "metadata": {},
     "source": [
      "\uc790\ub978 \uad6c\uac04\uc5d0 \ud29c\ud50c\ub85c \ub300\uc785\ud574\ub3c4 \ub9ac\uc2a4\ud2b8\uc5d0\ub294 \uc77c\ubc18\uac12\ucc98\ub7fc \ub300\uc785\ub41c\uac83\uc744 \ubcfc\uc218 \uc788\ub2e4."
     ]
    },
    {
     "cell_type": "code",
     "collapsed": false,
     "input": [
      "#6)\n",
      "L=[1, 2, 3, 4, 5]\n",
      "L[1:3] = [100, 101, 102]\n",
      "print L"
     ],
     "language": "python",
     "metadata": {},
     "outputs": [
      {
       "output_type": "stream",
       "stream": "stdout",
       "text": [
        "[1, 100, 101, 102, 4, 5]\n"
       ]
      }
     ],
     "prompt_number": 21
    },
    {
     "cell_type": "markdown",
     "metadata": {},
     "source": [
      "\uc790\ub978 \uad6c\uac04\uc5d0 \ub77c\uc2a4\ud2b8\ub85c \ub300\uc785\ud574\ub3c4 \ub9ac\uc2a4\ud2b8 \uc548\uc5d0\ub294 \uc77c\ubc18\uac12\ucc98\ub7fc \ub300\uc785\ub41c\uac83\uc744 \ubcfc\uc218 \uc788\ub2e4."
     ]
    },
    {
     "cell_type": "code",
     "collapsed": false,
     "input": [
      "#7)\n",
      "L=[1, 2, 3, 4, 5]\n",
      "L[1:3] = [(100, 101, 102)]\n",
      "print L"
     ],
     "language": "python",
     "metadata": {},
     "outputs": [
      {
       "output_type": "stream",
       "stream": "stdout",
       "text": [
        "[1, (100, 101, 102), 4, 5]\n"
       ]
      }
     ],
     "prompt_number": 22
    },
    {
     "cell_type": "markdown",
     "metadata": {},
     "source": [
      "\ud29c\ud50c\uc744 \ub0b4\ud3ec\ud55c \ub9ac\uc2a4\ud2b8\ub97c \uc790\ub978 \uad6c\uac04\uc5d0 \ub300\uc785\ud558\ub2c8 \ubb36\uc778 \ud29c\ud50c \uc804\uccb4\uac00 \ud558\ub098\uc758 \uc6d0\uc18c\ub85c L \ub9ac\uc2a4\ud2b8 \uc548\uc5d0\ub85c \ub4e4\uc5b4\uac04\ub2e4. "
     ]
    },
    {
     "cell_type": "code",
     "collapsed": false,
     "input": [
      "#8)\n",
      "L=[1, 2, 3, 4, 5]\n",
      "L[1:3] = [[100, 101, 102]]\n",
      "print L"
     ],
     "language": "python",
     "metadata": {},
     "outputs": [
      {
       "output_type": "stream",
       "stream": "stdout",
       "text": [
        "[1, [100, 101, 102], 4, 5]\n"
       ]
      }
     ],
     "prompt_number": 26
    },
    {
     "cell_type": "markdown",
     "metadata": {},
     "source": [
      "\ub9ac\uc2a4\ud2b8\uc548\uc5d0 \ub610\ub2e4\ub978 \ub9ac\uc2a4\ud2b8\ub97c \ub0b4\ud3ec\ud55c \ub9ac\uc2a4\ud2b8\ub97c \uc790\ub978 \uad6c\uac04\uc5d0 \ub300\uc785\ud558\ub2c8 \ubb36\uc778 \ub9ac\uc2a4\ud2b8 \uc804\uccb4\uac00\uac00 \ud558\ub098\uc758 \uc6d0\uc18c\ub85c L \ub9ac\uc2a4\ud2b8\uc548\uc5d0 \ub4e4\uc5b4\uac04\ub2e4. "
     ]
    },
    {
     "cell_type": "markdown",
     "metadata": {},
     "source": [
      "###2\ubc88\ubb38\uc81c\n",
      "####\ubb38\uc790\uc5f4 S = 'Hello World and Python'\uc5d0 \ub300\ud574 \ub2e4\uc74c \uc694\uad6c\uc0ac\ud56d\uc5d0 \ub300\ud55c Python \ucf54\ub4dc\ub97c \uc81c\uc2dc\ud558\uc2dc\uc624.\n",
      "####1) \ub2e8\uc5b4\uc758 \uc21c\uc11c\uac00 \uc5ed\uc21c\uc73c\ub85c \ub418\uc5b4\uc9c4 \ubb38\uc790\uc5f4 ('Python and World Hello')\uc744 \ub9cc\ub4e4\uace0\n",
      "####2) 1)\uc758 \uacb0\uacfc \ubb38\uc790\uc5f4\uc5d0 \ub300\ud574 \uba54\uc18c\ub4dc split\uacfc join\uc744 \uc774\uc6a9\ud558\uc5ec \uacf5\ubc31\uc744 \ubaa8\ub450 \uc5c6\uc5d4 \ubb38\uc790\uc5f4 'PythonandWorldHello'\uc744 \ub9cc\ub4dc\uc2dc\uc624."
     ]
    },
    {
     "cell_type": "code",
     "collapsed": false,
     "input": [
      "#1)\n",
      "S = 'Hello World and Python'\n",
      "S = S[16:] + S[11:16] + S[6:12] + S[:6]\n",
      "print S\n",
      "#2)\n",
      "S = S.split(' ')\n",
      "S = ''.join(S)\n",
      "print S"
     ],
     "language": "python",
     "metadata": {},
     "outputs": [
      {
       "output_type": "stream",
       "stream": "stdout",
       "text": [
        "Python and World Hello \n",
        "PythonandWorldHello\n"
       ]
      }
     ],
     "prompt_number": 11
    },
    {
     "cell_type": "markdown",
     "metadata": {},
     "source": [
      "###3\ubc88\ubb38\uc81c\n",
      "####\ub2e4\uc74c \ucf54\ub4dc\ub97c \ubcf4\uace0 \ubb3c\uc74c\uc5d0 \ub2f5\ud558\uc2dc\uc624"
     ]
    },
    {
     "cell_type": "code",
     "collapsed": false,
     "input": [
      "#3\ubc88\uacfc\uc81c \n",
      "a = [1, 2, 3]\n",
      "b = a * 3\n",
      "c = [a] * 3\n",
      "print b\n",
      "print c"
     ],
     "language": "python",
     "metadata": {},
     "outputs": [
      {
       "output_type": "stream",
       "stream": "stdout",
       "text": [
        "[1, 2, 3, 1, 2, 3, 1, 2, 3]\n",
        "[[1, 2, 3], [1, 2, 3], [1, 2, 3]]\n"
       ]
      }
     ],
     "prompt_number": 24
    },
    {
     "cell_type": "markdown",
     "metadata": {},
     "source": [
      "####1) \uc704 \ucf54\ub4dc\ub97c \uc218\ud589\ud55c \uc774\ud6c4 \ub2e4\uc74c \ucf54\ub4dc\ub97c \uc218\ud589\ud55c \ud6c4 b\uc640 c\uc758 \ub0b4\uc6a9\uc744 \ud655\uc778\ud558\uc2dc\uc624."
     ]
    },
    {
     "cell_type": "code",
     "collapsed": false,
     "input": [
      "a[0]=0\n",
      "print b\n",
      "print c"
     ],
     "language": "python",
     "metadata": {},
     "outputs": [
      {
       "output_type": "stream",
       "stream": "stdout",
       "text": [
        "[1, 2, 3, 1, 2, 3, 1, 2, 3]\n",
        "[[0, 2, 3], [0, 2, 3], [0, 2, 3]]\n"
       ]
      }
     ],
     "prompt_number": 25
    },
    {
     "cell_type": "markdown",
     "metadata": {},
     "source": [
      "####2) b\uc640 c \uac1d\uccb4\uc758 \ucc28\uc774\ub294 \ubb34\uc5c7\uc778\uac00?"
     ]
    },
    {
     "cell_type": "markdown",
     "metadata": {},
     "source": [
      "b \ub294 a\uc5d0 \ub300\ud55c \uc0c8\ub85c\uc6b4 \uac1d\uccb4\ub97c \uc0dd\uc131\ud558\uc5ec b\uc5d0\uc11c \ucc38\uc870\ud558\uac8c \ud588\uc73c\ub098\n",
      "c\uc5d0\uc11c\ub294 a \uac12\uc5d0 \ub300\ud55c \ub808\ud380\uc2a4\uac12\uc744 \uc774\uc6a9\ud558\uc5ec c\uc5d0\uc11c a\uc5d0\ub300\ud55c \ub808\ud37c\ub7f0\uc2a4 \uac12\uc744 \ucc38\uc870\ud558\uac8c \ud558\uc600\uc73c\ubbc0\ub85c a\uac12\uc744 \ubcc0\uacbd\uc2dc c\uc5d0\uc11c \ubc18\uc601\ub41c\ub2e4 \\"
     ]
    },
    {
     "cell_type": "markdown",
     "metadata": {},
     "source": [
      "###4\ubc88\ubb38\uc81c\n",
      "####\ub2e4\uc74c \ubb38\uc790\uc5f4\uc744 ':'\uc744 \uae30\uc900\uc73c\ub85c \ubd84\ub9ac\ud558\uc5ec \ub9ac\uc2a4\ud2b8\ub85c \ub9cc\ub4e4\uace0 \uac01 \ubb38\uc790\uc5f4\uc758 \uc88c\uc6b0 \uacf5\ubc31\uc744 \uc81c\uac70\ud558\uc2dc\uc624 (\uc989, \ubb38\uc790\uc5f4 S\uc5d0\uc11c l\uc744 \ub9cc\ub4e4\uc5b4\ub77c)\n",
      "s = '  first star   :   second star   :    third star  '<br>\n",
      "l = ['first star', 'second star', 'third star']"
     ]
    },
    {
     "cell_type": "code",
     "collapsed": false,
     "input": [
      "s = '  first star   :   second star   :    third star  '\n",
      "s = s.split(':')\n",
      "print s\n",
      "for x in range(0,len(s)):\n",
      "    s[x] = s[x].strip()\n",
      "    \n",
      "print s"
     ],
     "language": "python",
     "metadata": {},
     "outputs": [
      {
       "output_type": "stream",
       "stream": "stdout",
       "text": [
        "['  first star   ', '   second star   ', '    third star  ']\n",
        "['first star', 'second star', 'third star']\n"
       ]
      }
     ],
     "prompt_number": 3
    },
    {
     "cell_type": "markdown",
     "metadata": {},
     "source": [
      "###5\ubc88\ubb38\uc81c\n",
      "\ub2e4\uc74c\uacfc \uac19\uc774 0\ubcf4\ub2e4 \ud070 \uc815\uc218 \ub9ac\uc2a4\ud2b8 \ubcc0\uc218 list\ub97c \uc778\uc790\ub85c \ubc1b\ub294 \ud568\uc218 addall(list)\uc640 addallodd(list)\ub97c for ~ in \ub9ac\ud130\ub110\uacfc \ub9ac\uc2a4\ud2b8 \ub0b4\ud3ec \ubc29\uc2dd\uc73c\ub85c \uac01\uac01 \uc81c\uc2dc\ud558\uc2dc\uc624.\n",
      "<br>1) addall(list) \ud568\uc218 (\ub9ac\uc2a4\ud2b8 \ub0b4\uc758 \ubaa8\ub4e0 \uc815\uc218\ub97c \ub354\ud558\ub294 \ud568\uc218\ub85c\uc11c \ud574\ub2f5\uc73c\ub85c\ub294 for ~ in \ub9ac\ud130\ub7f4\uacfc \ub9ac\uc2a4\ud2b8 \ub0b4\ud3ec \ubc29\uc2dd\uc73c\ub85c \uac01\uac01 \uc81c\uc2dc\ud558\uc2dc\uc624.)<br>\n",
      "addall([1])<br>\n",
      "1<br>\n",
      "addall([1, 2, 3, 4, 5, 6, 7, 8, 9])<br>\n",
      "45<br>\n",
      "2) addallodd(list) \ud568\uc218 (\ub9ac\uc2a4\ud2b8\ub0b4\uc758 \ubaa8\ub4e0 \ud640\uc218\ub97c \ub354\ud558\ub294 \ud568\uc218\ub85c\uc11c \ud574\ub2f5\uc73c\ub85c\ub294 for ~ in \ub9ac\ud130\ub7f4\uacfc \ub9ac\uc2a4\ud2b8 \ub0b4\ud3ec \ubc29\uc2dd\uc73c\ub85c \uac01\uac01 \uc81c\uc2dc\ud558\uc2dc\uc624.)<br>\n",
      "addallodd([1])<br>\n",
      "1<br>\n",
      "addallodd([1, 2, 3, 4, 5, 6, 7, 8, 9])<br>\n",
      "25<br>"
     ]
    },
    {
     "cell_type": "code",
     "collapsed": false,
     "input": [
      "#result = 0\n",
      "def addall(list):\n",
      "    #for in \ub9ac\ud130\ub7f4 \n",
      "    result = 0\n",
      "    for x in range(len(list)):\n",
      "        result = result + list[x]\n",
      "    return result\n",
      "\n",
      "def addall1(list):\n",
      "    result = 0 \n",
      "    result = sum([list[x] for x in range(len(list))])\n",
      "    return result\n",
      "\n",
      "def addallodd(list):\n",
      "    result = 0\n",
      "    for x in range(len(list)):\n",
      "        if(list[x]%2!=0):\n",
      "            result = result + list[x]\n",
      "    return result\n",
      "    \n",
      "def addallodd1(list):\n",
      "    result = 0 \n",
      "    result = sum([list[x] for x in range(0, len(list)) if(list[x]%2!=0)])\n",
      "    return result\n",
      " \n",
      "list1 = [1,2,3,4,5,6,7,8,9]\n",
      "print 'for ~ in \ubc29\uc2dd \uc804\uccb4\uac12 \ud569 \ucd9c\ub825'\n",
      "a = addall(list1)\n",
      "print a\n",
      "print 'for ~ in \ubc29\uc2dd \ud640\uc218\uac12 \ud569 \ucd9c\ub825'\n",
      "b = addallodd(list1)\n",
      "print b\n",
      "print '\ub9ac\uc2a4\ud2b8 \ub0b4\ud3ec \ubc29\uc2dd \uc804\uccb4\uac12 \ud569 \ucd9c\ub825'\n",
      "c = addall1(list1)\n",
      "print c\n",
      "print '\ub9ac\uc2a4\ud2b8 \ub0b4\ud3ec \ubc29\uc2dd \ud640\uc218\uac12 \ud569 \ucd9c\ub825'\n",
      "d = addallodd1(list1)\n",
      "print d"
     ],
     "language": "python",
     "metadata": {},
     "outputs": [
      {
       "output_type": "stream",
       "stream": "stdout",
       "text": [
        "for ~ in \ubc29\uc2dd \uc804\uccb4\uac12 \ud569 \ucd9c\ub825\n",
        "45\n",
        "for ~ in \ubc29\uc2dd \ud640\uc218\uac12 \ud569 \ucd9c\ub825\n",
        "25\n",
        "\ub9ac\uc2a4\ud2b8 \ub0b4\ud3ec \ubc29\uc2dd \uc804\uccb4\uac12 \ud569 \ucd9c\ub825\n",
        "45\n",
        "\ub9ac\uc2a4\ud2b8 \ub0b4\ud3ec \ubc29\uc2dd \ud640\uc218\uac12 \ud569 \ucd9c\ub825\n",
        "25\n"
       ]
      }
     ],
     "prompt_number": 29
    },
    {
     "cell_type": "markdown",
     "metadata": {},
     "source": [
      "###6\ubc88\uacfc\uc81c\n"
     ]
    },
    {
     "cell_type": "code",
     "collapsed": false,
     "input": [
      "#6\ubc88\uacfc\uc81c\n",
      "#\ub2e4\uc74c \ucf54\ub4dc\ub97c \ubcf4\uace0 \ubb3c\uc74c\uc5d0 \ub2f5\ud558\uc2dc\uc624.\n",
      "L1 = [1, 2, 3]\n",
      "L2 = [4, 5, 6]\n",
      "d = {'low':L1, 'high':L2}\n",
      "e = d\n",
      "f = d.copy()\n",
      "print d\n",
      "print e\n",
      "print f\n",
      "print\n",
      "d['low'] = [10, 20, 30]\n",
      "d['high'][1] = 500\n",
      "print d\n",
      "print e\n",
      "print f"
     ],
     "language": "python",
     "metadata": {},
     "outputs": [
      {
       "output_type": "stream",
       "stream": "stdout",
       "text": [
        "{'high': [4, 5, 6], 'low': [1, 2, 3]}\n",
        "{'high': [4, 5, 6], 'low': [1, 2, 3]}\n",
        "{'high': [4, 5, 6], 'low': [1, 2, 3]}\n",
        "\n",
        "{'high': [4, 500, 6], 'low': [10, 20, 30]}\n",
        "{'high': [4, 500, 6], 'low': [10, 20, 30]}\n",
        "{'high': [4, 500, 6], 'low': [1, 2, 3]}\n"
       ]
      }
     ],
     "prompt_number": 34
    },
    {
     "cell_type": "markdown",
     "metadata": {},
     "source": [
      "####1) \uc704 \ucf54\ub4dc\uc758 \uc218\ud589 \uacb0\uacfc d\uc640 e\ub294 \ud56d\uc0c1 \uac19\uc740 \uacb0\uacfc\ub97c \ucd9c\ub825\ud55c\ub2e4. \uadf8 \uc774\uc720\ub294 \ubb34\uc5c7\uc778\uac00?\n",
      "d\uc640 e\ub294 shallow copy \uac00 \ub418\uc5b4\uc788\uace0 \ub458\uc774 \uac19\uc740 \uac12\uc744 \ub808\ud37c\ub7f0\uc2a4\ud558\uae30\ub54c\ubb38\uc5d0 d\uc758 \uac12\uc744 \ubcc0\uacbd\ud558\uba74 e\uc5d0\uc11c \ubc18\uc601\ub41c\ub2e4"
     ]
    },
    {
     "cell_type": "markdown",
     "metadata": {},
     "source": [
      "####2) \uc704 \ucf54\ub4dc\uc758 \uc218\ud589 \uacb0\uacfc \ub9c8\uc9c0\ub9c9 f\uc758 \ub0b4\uc6a9\uc740 \ub2e4\uc74c\uacfc \uac19\ub2e4. \uc774 \ub54c 'high' \ud0a4\uc758 \uac12 \ub0b4\uc6a9 \uc911 500\uc774 \ucd9c\ub825\ub41c \uc774\uc720\uc640 'low' \ud0a4\uc758 \uac12 \ub0b4\uc6a9 \uc911 [1, 2, 3]\uc774 \ucd9c\ub825\ub41c \uc774\uc720\ub97c \uc124\uba85\ud558\uc2dc\uc624 ([hint]: shallow copy \uad00\uc810\uc5d0\uc11c \uc124\uba85\ud558\uc2dc\uc624.)\n",
      "{'high': [4, 500, 6], 'low': [1, 2, 3]}<br>\n",
      "f \ub294 d\uc758 \uac12\uc758 deep copy\uac00 \ub418\uc5c8\uae30\uc5d0 f\ub294 d\uc640\ub294 \uc804\ud600 \ub2e4\ub978 \uc774\ubbf8 \uc0c8\ub85c\uc6b4 \uac1d\uccb4\uc774\uae30 \ub54c\ubb38\uc5d0 d\uc758 \uac12\uc744 \ubcc0\uacbd\ud574\ub3c4 f\uc758 \uac12\uc5d0\ub294 \uc601\ud5a5\uc774 \uc5c6\ub2e4."
     ]
    },
    {
     "cell_type": "code",
     "collapsed": false,
     "input": [
      "d = {'one':1, 'two':2, 'three':3, 'four':4, 'five':5}\n",
      "#1)\n",
      "\n",
      "str = 'abc'\n",
      "x = d.values()\n",
      "y = d.keys()\n",
      "\n",
      "def mycmp(a1, a2):\n",
      "    if(a1[0]>a2[0]):\n",
      "        return cmp(a1[0], a2[0])\n",
      "    elif(a1[0]==a2[0]):\n",
      "        if(a1[1]>a1[1]):\n",
      "            return cmp(a1[1], a2[1])            \n",
      "        else:\n",
      "            return cmp(a2[1], a1[1])                \n",
      "    else:\n",
      "        return cmp(a1[0], a2[0])\n",
      "\n",
      "b = sorted(y, mycmp)\n",
      "\n",
      "print '\ubb38\uc81c 1)' \n",
      "for key in b:\n",
      "    temp = (key, d[key])\n",
      "    print temp,   \n",
      "\n",
      "\n",
      "#2)\n",
      "print \n",
      "print '--------------'    \n",
      "print '\ubb38\uc81c 2)'\n",
      "c = sorted(y, mycmp)\n",
      "c.reverse()\n",
      "for key in c:\n",
      "    temp = key, d[key]\n",
      "    print temp,\n",
      " \n",
      "#3)\n",
      "print\n",
      "print '--------------'\n",
      "print '\ubb38\uc81c 3)'\n",
      "a = sorted(x)\n",
      "for i in a:\n",
      "    for l in d:\n",
      "        if(d[l] == i):\n",
      "            print (i, l),\n",
      "        \n",
      "#4)\n",
      "print\n",
      "print '--------------'\n",
      "print '\ubb38\uc81c 4)'\n",
      "a = sorted(x, reverse=True)\n",
      "for i in a:\n",
      "    for l in d:\n",
      "        if(d[l] == i):\n",
      "            print (i, l),"
     ],
     "language": "python",
     "metadata": {},
     "outputs": [
      {
       "output_type": "stream",
       "stream": "stdout",
       "text": [
        "\ubb38\uc81c 1)\n",
        "('four', 4) ('five', 5) ('one', 1) ('two', 2) ('three', 3)\n",
        "--------------\n",
        "\ubb38\uc81c 2)\n",
        "('three', 3) ('two', 2) ('one', 1) ('five', 5) ('four', 4)\n",
        "--------------\n",
        "\ubb38\uc81c 3)\n",
        "(1, 'one') (2, 'two') (3, 'three') (4, 'four') (5, 'five')\n",
        "--------------\n",
        "\ubb38\uc81c 4)\n",
        "(5, 'five') (4, 'four') (3, 'three') (2, 'two') (1, 'one')\n"
       ]
      }
     ],
     "prompt_number": 35
    },
    {
     "cell_type": "code",
     "collapsed": false,
     "input": [
      "# -*- coding: utf-8 -*-\n",
      "\n",
      "'''\n",
      "\uc774\uc804 Assignment 2\uc758 \ub9c8\uc9c0\ub9c9 \ubb38\uc81c\ub294 \uc6f9 URL\ub85c \uc9c0\uc815\ub41c \uc6f9\ud398\uc774\uc9c0\ub97c \ubb38\uc790\uc5f4\ub85c \uac00\uc838\uc640 \ubaa8\ub4e0 HTML \ud0dc\uadf8 \ubc0f CSS\uc640 Javascript\ub97c \uc81c\uc678\ud55c \uc21c\uc218 \ud14d\uc2a4\ud2b8\ub97c \uc5bb\uc5b4\ub0b4\uace0 \uadf8 \uc548\uc5d0 \uc874\uc7ac\ud558\ub294 \ub2e8\uc5b4\ub97c \ucd94\ucd9c\ud558\ub294 \ud504\ub85c\uadf8\ub7a8\uc744 \uc791\uc131\ud558\ub294 \uac83\uc774\uc5c8\ub2e4. \n",
      "\uc774\ubc88\uc5d0\ub294 \uadf8 \ub9c8\uc9c0\ub9c9 \uc219\uc81c\ub97c \uadf8\ub300\ub85c \ud655\uc7a5\ud558\uc5ec \uc6f9 URL\ub85c \uc9c0\uc815\ub41c \uc6f9\ud398\uc774\uc9c0 \ub0b4 \uc21c\uc218 \ud14d\uc2a4\ud2b8 \uc548\uc5d0 \uc874\uc7ac\ud558\ub294 \uac01 \ub2e8\uc5b4\ub4e4\uc5d0 \ub300\ud574 \ub2e4\uc74c \uc694\uad6c\uc0ac\ud56d \ub300\ub85c \ucd9c\ub825\ud558\ub294 \ud504\ub85c\uadf8\ub7a8\uc744 \uc791\uc131\ud558\uc2dc\uc624.\n",
      "\uc694\uad6c\uc0ac\ud56d 1. \uc21c\uc218 \ud14d\uc2a4\ud2b8 \uc548\uc5d0 \uc874\uc7ac\ud558\ub294 \ub2e8\uc5b4\ub4e4\uc5d0 \ub300\ud574 string \ubaa8\ub4c8\uc744 \ud65c\uc6a9\ud558\uc5ec \ubaa8\ub4e0 punctuation (\uad6c\ub450\ubb38\uc790)\ub97c \uc644\ubcbd\ud788 \uc81c\uac70\ud558\uc2dc\uc624 (\uad50\uc7ac 166\ud398\uc774\uc9c0 \ucc38\uace0).\n",
      "\uc608: ['world!', ':', '+hello+', '~python$$$', '=', 'world'] ---> ['world', 'hello', 'python', 'world']\n",
      "\uc694\uad6c\uc0ac\ud56d 2. \uac01 \ub2e8\uc5b4\ub4e4\uc758 \ucd9c\ud604\ube48\ub3c4\ub97c \uc0ac\uc804\ud615\ud0dc\ub85c \uc800\uc7a5\ud558\uc5ec \ucd9c\ub825\ud558\uc2dc\uc624.\n",
      "\uc608: ['world', 'hello', 'python', 'world'] ---> {'world': 2, 'hello': 1, 'python': 1}\n",
      "'''\n",
      "\n",
      "import urllib\n",
      "import string\n",
      "\n",
      "source = urllib.urlopen(\"http://cse.kut.ac.kr/\").read()\n",
      "\n",
      "len_source = len(source)\n",
      "\n",
      "source_new = None\n",
      "i = 0\n",
      "while (i < len_source):\n",
      "\tfound = False\n",
      "\tif (found != True and source[i] == \"<\" and source[i+1 : i+7].lower() == \"script\"):\n",
      "\t\tfound = True;\n",
      "\t\tj = i + 7;\n",
      "\t\twhile (True):\n",
      "\t\t\tif (source[j] == \"<\" and source[j+1] == \"/\" and source[j+2 : j+8].lower() == \"script\"):\n",
      "\t\t\t\t#print \"found - script\"\n",
      "\t\t\t\tsource = source[:i] + ' ' + source[j+9:]\n",
      "\t\t\t\tbreak\n",
      "\t\t\tj = j + 1\n",
      "\t\t\tif (j > len_source):\n",
      "\t\t\t\tbreak\n",
      "\t\tlen_source = len(source)\n",
      "\ti = i + 1\n",
      "\n",
      "len_source = len(source)\n",
      "#print len_source\n",
      "\n",
      "i = 0\n",
      "while (i < len_source):\n",
      "\tfound = False\n",
      "\tif (found != True and source[i] == \"<\" and source[i+1 : i+6].lower() == \"style\"):\n",
      "\t\tfound = True;\n",
      "\t\tj = i + 6;\n",
      "\t\twhile (True):\n",
      "\t\t\tif (source[j] == \"<\" and source[j+1] == \"/\" and source[j+2 : j+7].lower() == \"style\"):\n",
      "\t\t\t\t#print \"found - style\"\n",
      "\t\t\t\tsource = source[:i] + ' ' + source[j+8:]\n",
      "\t\t\t\tbreak\n",
      "\t\t\tj = j + 1\n",
      "\t\t\tif (j > len_source):\n",
      "\t\t\t\tbreak\n",
      "\t\tlen_source = len(source)\n",
      "\ti = i + 1\n",
      "\n",
      "len_source = len(source)\n",
      "#print len_source\n",
      "\n",
      "i = 0\n",
      "while (i < len_source):\n",
      "\tfound = False\n",
      "\tif (found != True and source[i] == \"<\"):\n",
      "\t\tfound = True;\n",
      "\t\tj = i + 1;\n",
      "\t\twhile (True):\n",
      "\t\t\tif (source[j] == \">\"):\n",
      "\t\t\t\t#print \"found - HTML tag\"\n",
      "\t\t\t\tsource = source[:i] + ' ' + source[j+1:]\n",
      "\t\t\t\tbreak\n",
      "\t\t\tj = j + 1\n",
      "\t\t\tif (j > len_source):\n",
      "\t\t\t\tbreak\n",
      "\t\tlen_source = len(source)\n",
      "\ti = i + 1\n",
      "\t\n",
      "\n",
      "\n",
      "\n",
      "\n",
      "Filter = string.punctuation\n",
      "found = False\n",
      "\n",
      "i = 0\n",
      "while (i < len_source):\n",
      "\tfound = False\n",
      "\tif (found != True and source[i] in Filter):\n",
      "\t\tfound = True;\n",
      "\t\tj = i + 1;\n",
      "\t\tsource = source[:i] + ' ' + source[i+1:]\n",
      "\t\tif (j > len_source):\n",
      "\t\t\tbreak\n",
      "\t\tlen_source = len(source)\n",
      "\ti = i + 1\n",
      "\t\n",
      "\n",
      "\n",
      "\n",
      "\n",
      "words = source.split()\n",
      "\n",
      "#for word in words:\n",
      "#\tprint word\n",
      "    \n",
      "\n",
      "def checkedForRepetition(source):\n",
      "    list=[]\n",
      "    len_source = len(source)\n",
      "    i = 0    \n",
      "    while True:\n",
      "        if(i>len_source-1):\n",
      "            break\n",
      "        checkedWord = source[i]         \n",
      "        if(list.count(checkedWord)==0): \n",
      "            list.append(checkedWord)                          \n",
      "        else:\n",
      "            i = i + 1\n",
      "            continue            \n",
      "       \n",
      "    return list  \n",
      "  \n",
      "nonRepeatedWords = checkedForRepetition(words)\n",
      "list = []\n",
      "for x in nonRepeatedWords:\n",
      "    list.append((x, words.count(x)))\n",
      "\n",
      "list_dict = dict(list)\n",
      "for key in list_dict:\n",
      "    print key+':',list_dict[key],\"|\",\n",
      "\n",
      "     \n",
      "                  \n",
      "           "
     ],
     "language": "python",
     "metadata": {},
     "outputs": [
      {
       "output_type": "stream",
       "stream": "stdout",
       "text": [
        "09: 5 | \ucef4\ud4e8\ud130\uc2dc\uc2a4\ud15c\uc751\uc6a9: 1 | \u201c\uc8fc\ud30c\uc218: 1 | money: 1 | \ucd9c\uc2dc: 1 | \uc815\ud574\ub2ec\ub77c\u201d\u00b7: 1 | nbsp: 1 | \uacf5\uc9c0\uc0ac\ud56d: 1 | 2013\ub144: 1 | 25: 1 | 27: 1 | \uc544\uc774\ud328\ub4dc: 1 | \uc5f0\uad6c\uc2e4\uc18c\uac1c: 1 | \ubaa8\uc9d1\uc694\uac15: 1 | \ucf64\ud14d\uc2dc\uc2a4\ud15c: 1 | \ud559\uc220\uc81c: 1 | \uc138\ub9bc\ud2f0\ub124\uc2a4\uc9c0: 1 | 2014: 25 | 2013: 2 | 2012: 2 | 11: 1 | \uc7ac\uacf5\uc9c0: 1 | \uc815\ubcf4\ud1b5\uc2e0\ubcf4\uc870\uae30\uae30: 1 | \uc5d0\uc5b42: 1 | \ub18d\uad6c: 1 | T: 1 | \uadf8\ub9bc\uc790\u2019: 1 | 15: 2 | \ub3d9\ub0a8\uc544: 1 | 17: 5 | \uc870\uad50: 1 | \ubaa8\uc9d1: 1 | \uc0c1\uc6a9\ud654: 1 | \uc2e0\uc785\uc0ac\uc6d0: 1 | \uac15\uc758\uc790\ub8cc\uc2e4: 1 | \ub300\ud559\uc6d0\uc0dd: 1 | \ud1b5\uc2e0\uc7a5\ube44\uc5c5\uacc4: 1 | \uc878\uc5c5\uc791\ud488: 6 | \uc878\uc5c5: 1 | 2015\ub144: 1 | \ub3d9\ubb38\uac8c\uc2dc\ud310: 1 | \ub514\uc9c0\ud138: 1 | \ub300\uc0c1: 1 | 03: 1 | 01: 1 | 06: 3 | 07: 2 | 04: 1 | 05: 1 | \uad50\uc218\uc9c4: 1 | 08: 1 | \ud559\ubd80\uc0ac\uc9c4\uac94\ub7ec\ub9ac: 1 | \uc704\ud55c: 1 | \uc0c1\ubc18\uae30: 1 | \ud559\uc0dd\ud68c: 1 | 4\ub300: 1 | C: 1 | \ud22c\ud45c: 1 | \uac1c\ucd5c: 1 | \ud3ec\uc2a4\ud130\ubc1c\ud45c\uacbd\uc9c4\ub300\ud68c: 1 | \uad6c: 1 | \uc0bc\uc131: 1 | W: 2 | \uc5e0\ud504\ub860\ud2f0\uc5b4: 1 | \uc0ac\uc9c4\uac8c\uc2dc\ud310: 1 | \uacf5\ud559\uc778\uc99d\uc548\ub0b4: 1 | \ud559\uc0dd\ub4e4\uc744: 1 | \uad50\uc721\ubaa9\ud45c: 1 | 30: 1 | \uc778: 2 | \ucde8\uc5c5\uc870\uc0ac2013: 1 | \ucde8\uc5c5\uc870\uc0ac2014: 1 | \uc775\uba85\uac8c\uc2dc\ud310: 1 | 2014\ub144: 3 | \uc548\uc804\uad50\uc721: 1 | \ucef4\ud4e8\ud130: 1 | \ud558\ubc18\uae30: 1 | \ucc3e\uc544\uc624\uc2dc\ub294\uae38: 1 | \uc7a5\ud559\uc81c\ub3c4: 1 | \ud648\ud398\uc774\uc9c0: 1 | \ucde8\uc5c5\uac8c\uc2dc\ud310: 1 | \ub9c8\uac10: 1 | \uccad\ub144\uc778\ud134: 1 | \uc77c\ubcf8\uae30\uc220\ud0d0\ubc29: 1 | 2: 1 | \uc870\uc774\uc2dc\ud2f0: 1 | \ud3ec\uc0c1: 1 | \ucef4\ud4e8\ud130H: 1 | \uc124\uacc41: 1 | \uc911\uac04\uace0\uc0ac: 1 | \ud55a\uad6d\uc2a4\ub9c8\ud2b8\uce74\ub4dc: 1 | \uc8fc: 3 | \uc790\uc720\uac8c\uc2dc\ud310: 1 | \uacf5\uace0: 1 | \ud154\ucf54\uc6e8\uc5b4: 1 | \uc548\ub0b4: 2 | \ucef4\ud4e8\ud130S: 1 | \uac1c\ubc1c: 1 | \ub300\ud559\uc6d0\uc18c\uac1c: 1 | \uc785\uc2dcQ: 1 | \uacbd\uc9c4\ub300\ud68c: 2 | 10: 24 | 13: 1 | 12: 1 | \uc18c\ud504\ud2b8\uc6e8\uc5b4: 2 | 14: 4 | \uc778\ub825: 1 | 16: 3 | 12\uc77c: 1 | \ud55c\uad6d: 1 | \ud0a4: 1 | \uc2e0\uc785: 1 | KT: 1 | \uc2dc\uc2a4\ud15c: 2 | \uacf5\uc9c0: 1 | \ubaa8\ubc14\uc77c: 1 | \uc11c\uc2dd\ubc0f\uc591\uc2dd\uc790\ub8cc\uc2e4: 1 | \ud64d\uc9c4\ud45c: 1 | \ud559\ud68c\uc7a5: 1 | \ucef4\ud4e8\ud130\uacf5\ud559\ubd80: 7 | \ud2b9\uc131\ud654\uc0ac\uc5c5\ub2e8: 1 | \ub300\ud559\uc6d0\uac8c\uc2dc\ud310: 1 | \uad6d\uc81c: 1 | \uc120: 1 | \uc560\ud50c: 1 | \uc11c\ube44\uc2a4: 1 | 1: 1 | \uc81c: 1 | \ud3ec: 1 | \uc77c\ubc18\uc790\ub8cc\uc2e4: 1 | \ud559\ubd80\uc0ac\ubb34\uc2e4: 1 | \uc2e4\uc2b5: 1 | A: 1 | \uacf5\ud559\uc778\uc99d\uac8c\uc2dc\ud310: 1 | \uc18c\ud504\ud2b8\uc6e8\uc5b4\uacf5\ud559: 1 | \ube0c\ub85c\uc154: 1 | \uc878\uc5c5\uc774\uc218\uc694\uac74: 1 | \uacf5\ud559\uc124\uacc4: 2 | \uc804\uc2dc\ud68c: 1 | ICT: 1 | \ucef4\ud4e8\ud130\uc2a4\ub9c8\ud2b8IT: 1 | \uace0\uc7a5\uc2e0\uace0\uac8c\uc2dc\ud310: 1 | \u2018\ub2ec\uacfc: 1 | \ubd80\ud559: 1 | \ucc44\uc6a9: 1 | \uac1c\ubc1c\ubcf4\uc548: 1 | \uc6b4\uc601: 1 | \uad50\uc218\ub2d8\uc758: 1 | \ud639\uc2dc: 1 |\n"
       ]
      }
     ],
     "prompt_number": 40
    },
    {
     "cell_type": "markdown",
     "metadata": {},
     "source": [
      "###\uc18c\uac10:\n",
      "5, 6, 8\ubc88\uc758 \uad6c\ud604\uc774 \uc5b4\ub824\uc6e0\ub2e4. \ud30c\uc774\uc120\uc744 \ubc30\uc6b0\uba74 \ubc30\uc6b8\uc218\ub85d \ucc98\uc74c\uc5d0 \uc2dc\uc791\ud558\uae30\ub294 \uc26c\uc6e0\uc9c0\ub9cc \ud30c\uc774\uc36c\uc774\ub780 \uc5b8\uc5b4\uac00 \uac00\uc9c4 \ub2e4\uc591\ud55c \uae30\ub2a5\ub54c\ubb38\uc5d0 \ubb38\ubc95\uc744 \uc81c\ub300\ub85c \uc54c\uace0 \ub2a5\uc219\ud558\uac8c \uc4f0\uae30\ub294 \uc5b4\ub824\uc6b4\uac83 \uac19\ub2e4. \uc774\ubc88 \uacfc\uc81c\ub97c \uc9c4\ud589\ud558\uba74\uc11c\ub3c4 \uc11c\ub85c \ube44\uc2b7\ud558\uc9c0\ub9cc \ub2e4\ub978 \ub9ac\uc2a4\ud2b8, \ud29c\ud50c, \uc0ac\uc804\uc758 \ubb38\ubc95\uc774 \ud63c\ub780\uc2a4\ub7ec\uc6cc \uc218\uc5c5 \uc790\ub8cc\ub97c \uacc4\uc18d \ucc38\uc870\ud558\uba74\uc11c \ud504\ub85c\uadf8\ub798\ubc0d\uc744 \ud588\ub2e4. \uc5b8\uc81c\uac00\ub294 \ud30c\uc774\uc36c \ud504\ub85c\uadf8\ub798\ubc0d\uc5d0 \uc775\uc219\ud574\uc838 \ucc38\uc870\ud558\uc9c0 \uc54a\uc544\ub3c4 \ub2a5\uc219\ud558\uac8c \uc624\ub294\ub54c\uac00 \uc624\ub3c4\ub85d \ud574\uc57c\uaca0\ub2e4."
     ]
    }
   ],
   "metadata": {}
  }
 ]
}