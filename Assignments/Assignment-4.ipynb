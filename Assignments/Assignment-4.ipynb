{
 "metadata": {
  "name": "",
  "signature": "sha256:2da9a8dd31e2014a5388736ad3997cbc28b6c540f6720aaa77c6ed9b685dd085"
 },
 "nbformat": 3,
 "nbformat_minor": 0,
 "worksheets": [
  {
   "cells": [
    {
     "cell_type": "markdown",
     "metadata": {},
     "source": [
      "# \uc2a4\ud06c\ub9bd\ud2b8 \ud504\ub85c\uadf8\ub798\ubc0d \uacfc\uc81c4\n",
      "# 2008160006 \uac15\uc740\uc11d\n",
      "------"
     ]
    },
    {
     "cell_type": "code",
     "collapsed": false,
     "input": [
      "__author__ = 'user'\n",
      "# -*- coding: UTF-8 -*-\n",
      "\n",
      "f = file('s.txt')\n",
      "f = open('s.txt', 'r')\n",
      "s = f.readlines()\n",
      "\n",
      "#sorted(s, key=lambda s: s[]) '\n",
      "#1\ubc88\ubb38\uc81c\n",
      "\n",
      "f2 = open('s1.txt', 'w')\n",
      "lines = sorted(s, key=lambda lin: lin[0])\n",
      "f2.write(''.join(lines))\n",
      "f2.close()\n",
      "f2 = open('s1.txt', 'r')\n",
      "print \"1-1\ubc88\ubb38\uc81c \ud30c\uc77c\uc5d0\uc11c \uc77d\uc5b4\uc640 \ucd9c\ub825\"\n",
      "print f2.read()\n",
      "f2.close()\n",
      "\n",
      "#2\ubc88\ubb38\uc81c\n",
      "\n",
      "f2 = open('s2.txt', 'w')\n",
      "lines = sorted(s, key=lambda lin: lin[1])\n",
      "f2.write(''.join(lines))\n",
      "f2 = open('s2.txt', 'r')\n",
      "print \"1-2\ubc88\ubb38\uc81c \ud30c\uc77c\uc5d0\uc11c \uc77d\uc5b4\uc640 \ucd9c\ub825\"\n",
      "print f2.read()\n",
      "f2.close()\n",
      "\n",
      "\n",
      "#1-3\ubc88\ubb38\uc81c\n",
      "f2 = open('s.txt', 'r')\n",
      "lines = f2.read()\n",
      "lines = lines.split();\n",
      "\n",
      "i = 0\n",
      "result = '';\n",
      "first = 1\n",
      "while i < len(lines):\n",
      "\n",
      "    if i == 0:\n",
      "        result = result+lines[i]\n",
      "        i += 1\n",
      "        continue\n",
      "    elif (i%3==0):\n",
      "        result = result +'\\n'\n",
      "        result = result+lines[i]\n",
      "        i += 1\n",
      "        continue\n",
      "\n",
      "    result = result+' '+lines[i]\n",
      "    i = i +1\n",
      "\n",
      "f2.close()\n",
      "f2 = open('s3.txt', 'w')\n",
      "f2.write(result)\n",
      "f2 = open('s3.txt', 'r')\n",
      "print \"1-3\ubc88 \uc18c\ubb38\uc81c \ud30c\uc77c\uc5d0\uc11c \uc77d\uc5b4\uc640 \ucd9c\ub825\"\n",
      "print f2.read()\n",
      "f2.close()\n"
     ],
     "language": "python",
     "metadata": {},
     "outputs": [
      {
       "output_type": "stream",
       "stream": "stdout",
       "text": [
        "1-1\ubc88\ubb38\uc81c \ud30c\uc77c\uc5d0\uc11c \uc77d\uc5b4\uc640 \ucd9c\ub825\n",
        "cat dog\n",
        "dog pig\n",
        "ham bird\n",
        "pig ham\n",
        "\n",
        "1-2\ubc88\ubb38\uc81c \ud30c\uc77c\uc5d0\uc11c \uc77d\uc5b4\uc640 \ucd9c\ub825\n",
        "cat dog\n",
        "ham bird\n",
        "pig ham\n",
        "dog pig\n",
        "\n",
        "1-3\ubc88 \uc18c\ubb38\uc81c \ud30c\uc77c\uc5d0\uc11c \uc77d\uc5b4\uc640 \ucd9c\ub825\n",
        "pig ham cat\n",
        "dog ham bird\n",
        "dog pig\n"
       ]
      }
     ],
     "prompt_number": 4
    },
    {
     "cell_type": "markdown",
     "metadata": {},
     "source": [
      "#2\ubc88\ubb38\uc81c "
     ]
    },
    {
     "cell_type": "code",
     "collapsed": false,
     "input": [
      "__author__ = 'ES'\n",
      "# -*- coding: utf-8 -*-\n",
      "import sha\n",
      "import os\n",
      "import copy\n",
      "# \uba54\ub274\ub97c \ud45c\uc2dc\ud558\uace0 \uba54\ub274\ub97c \uc785\ub825\ubc1b\ub294\ub2e4(0-4).\n",
      "def menu():\n",
      "    print \"1. Sign Up\"\n",
      "    print \"2. Sign In\"\n",
      "    print \"3. quit\"\n",
      "    return input('Select menu: ')\n",
      "\n",
      "if not os.path.isfile('access.txt'):\n",
      "    f = open('access.txt','w+')\n",
      "else:\n",
      "    f = open('access.txt', 'r+')\n",
      "    if(f.read() == ''):\n",
      "        f.close()\n",
      "        f = open('access.txt','a+')\n",
      "\n",
      "\n",
      "\n",
      "def checkId(Id, file):\n",
      "    #print \"\uc544\uc774\ub514 \uc911\ubcf5\uac80\uc0ac \ud568\uc218 \uc2dc\uc791\"\n",
      "    temp_f = file\n",
      "    temp_f.seek(0)\n",
      "    lines_file = temp_f.readlines()\n",
      "    i = 0\n",
      "    while i < len(lines_file):\n",
      "        #subStringId = lines_file[i][:lines_file[i].find(':')]\n",
      "        #print \"\uc544\uc774\ub514\ub9cc \uc790\ub974\uae30\"\n",
      "        #print subStringId\n",
      "        #print subStringId(lines_file[i])\n",
      "        if (Id in subStringId(lines_file[i])):\n",
      "            if subStringId(lines_file[i]) == Id:\n",
      "                return True\n",
      "        i = i + 1\n",
      "    return False\n",
      "\n",
      "\n",
      "#ID \ubd80\ubd84\ub9cc \ucd94\ucd9c\ud558\ub294 \ud568\uc218\n",
      "def subStringId(info):\n",
      "    return info[:info.find(':')]\n",
      "\n",
      "#Password \ubd80\ubd84\ub9cc \ucd94\ucd9c\ud558\ub294 \ud568\uc218\n",
      "def subStringPassword(info):\n",
      "    return info[info.find(' ') + 1:info.find(',')]\n",
      "\n",
      "# Name \ubd80\ubd84\ub9cc \ucd94\ucd9c\ud558\ub294 \ud568\uc218\n",
      "def subStringName(info):\n",
      "    return info[info.find(',')+2: info.rfind(',')]\n",
      "\n",
      "#ID \uc874\uc7ac \uac80\uc0ac \ud568\uc218\n",
      "def checkForId(id, database):\n",
      "    database = copy.deepcopy(database)\n",
      "    i = 0\n",
      "    for x in database:\n",
      "        x = subStringId(x)\n",
      "        database[i] = x\n",
      "        i = i + 1\n",
      "    #for x in database:\n",
      "     #   print x\n",
      "    #id \uc874\uc7ac True \ubc18\ud658, \ube44\uc874\uc7ac False \ubc18\ud658\n",
      "    if (id not in database):\n",
      "        return False\n",
      "    else:\n",
      "        return id\n",
      "\n",
      "\n",
      "#Pass \uc77c\uce58 \uac80\uc0ac \ud568\uc218\n",
      "def checkForPass(id, password, database):\n",
      "    password = sha.new(password).hexdigest()\n",
      "\n",
      "    for x in range(len(database)):\n",
      "        if (id in database[x]):\n",
      "            if (password in database[x]):\n",
      "                return True\n",
      "    return False\n",
      "\n",
      "#ID\ub85c \uc774\ub984\ucc3e\uae30 \ud568\uc218\n",
      "def findNameById(id, database):\n",
      "    for i in range(len(database)):\n",
      "        if(id in database[i]):\n",
      "            if(id == subStringId(database[i])):\n",
      "                return subStringName(database[i])\n",
      "            else:\n",
      "                continue\n",
      "    return \"Id not found\"\n",
      "\n",
      "#\uba54\ub274\ub97c \ud45c\uc2dc\ud558\uace0 \uc120\ud0dd\ub41c \uba54\ub274\ub97c \uc2e4\ud589\ud55c\ub2e4.\n",
      "while 1:\n",
      "    sel = menu()  # \uba54\ub274 \ud45c\uc2dc\ud558\uace0 \ud0a4 \uc785\ub825 \ubc1b\uc74c\n",
      "    if sel == 1:  # \ubc94\uc704\ub97c \ubc97\uc5b4\ub098\uba74 \ub2e4\uc2dc \uba54\ub274 \ud45c\uc2dc\n",
      "        print \"Sign up selected\"\n",
      "        id = raw_input('ID: ')\n",
      "\n",
      "        if checkId(id, f) == True:\n",
      "            print \"Sorry, the entered ID is already used.\"\n",
      "            continue\n",
      "\n",
      "        password = raw_input('Password: ')\n",
      "        name = raw_input('Name: ')\n",
      "        school = raw_input('School: ')\n",
      "        # \"id: password, name, school\"\n",
      "\n",
      "        password = sha.new(password).hexdigest()\n",
      "        file_input = id + \": \" + password + \", \" + name + \", \" + school + \"\\n\"\n",
      "        print \"\uc785\ub825\ud55c \uc815\ubcf4: \", file_input\n",
      "\n",
      "        #password_plain = \"my password\"\n",
      "        #password_encrypted = sha.new(password_plain).hexdigest()\n",
      "\n",
      "\n",
      "        if f.read() != '':\n",
      "            f = open('access.txt', 'a+')\n",
      "            f.write(file_input)\n",
      "        else:\n",
      "            f.write(file_input)\n",
      "\n",
      "    if sel == 2:\n",
      "        print \"Sign in selected\"\n",
      "        id = raw_input('ID: ')\n",
      "        password = raw_input('Password: ')\n",
      "        if f == None:\n",
      "            f = open('access.txt', 'r')\n",
      "        f.seek(0)\n",
      "        userInfo = f.readlines()\n",
      "        idFlag = checkForId(id, userInfo)\n",
      "        #print \"id Flag \uc911\uac04\uac80\uc0ac: \", idFlag\n",
      "        #print idFlag\n",
      "        #print \"id Flag \uc911\uac04\uac80\uc0ac: \"+idFlag\n",
      "        if not idFlag:\n",
      "            print \"Sorry, you are not a registered member.\"\n",
      "        else:\n",
      "            if not checkForPass(idFlag, password, userInfo):\n",
      "                print \"Sorry, the entered password is not correct.\"\n",
      "            else:\n",
      "                print \"Hello [\"+idFlag+\"]!\"\n",
      "\n",
      "\n",
      "    if sel == 3:\n",
      "        break\n",
      "\n",
      "\n",
      "\n",
      "\n"
     ],
     "language": "python",
     "metadata": {},
     "outputs": [
      {
       "output_type": "stream",
       "stream": "stdout",
       "text": [
        "1. Sign Up\n",
        "2. Sign In\n",
        "3. quit\n"
       ]
      },
      {
       "name": "stdout",
       "output_type": "stream",
       "stream": "stdout",
       "text": [
        "Select menu: 1\n"
       ]
      },
      {
       "output_type": "stream",
       "stream": "stdout",
       "text": [
        "Sign up selected\n"
       ]
      },
      {
       "name": "stdout",
       "output_type": "stream",
       "stream": "stdout",
       "text": [
        "ID: korea\n"
       ]
      },
      {
       "output_type": "stream",
       "stream": "stdout",
       "text": [
        "Sorry, the entered ID is already used.\n",
        "1. Sign Up\n",
        "2. Sign In\n",
        "3. quit\n"
       ]
      },
      {
       "name": "stdout",
       "output_type": "stream",
       "stream": "stdout",
       "text": [
        "Select menu: 2\n"
       ]
      },
      {
       "output_type": "stream",
       "stream": "stdout",
       "text": [
        "Sign in selected\n"
       ]
      },
      {
       "name": "stdout",
       "output_type": "stream",
       "stream": "stdout",
       "text": [
        "ID: kangeunseok\n"
       ]
      },
      {
       "name": "stdout",
       "output_type": "stream",
       "stream": "stdout",
       "text": [
        "Password: kang\n"
       ]
      },
      {
       "output_type": "stream",
       "stream": "stdout",
       "text": [
        "Sorry, you are not a registered member.\n",
        "1. Sign Up\n",
        "2. Sign In\n",
        "3. quit\n"
       ]
      },
      {
       "name": "stdout",
       "output_type": "stream",
       "stream": "stdout",
       "text": [
        "Select menu: 1\n"
       ]
      },
      {
       "output_type": "stream",
       "stream": "stdout",
       "text": [
        "Sign up selected\n"
       ]
      },
      {
       "name": "stdout",
       "output_type": "stream",
       "stream": "stdout",
       "text": [
        "ID: kangeunseok\n"
       ]
      },
      {
       "name": "stdout",
       "output_type": "stream",
       "stream": "stdout",
       "text": [
        "Password: kang\n"
       ]
      },
      {
       "name": "stdout",
       "output_type": "stream",
       "stream": "stdout",
       "text": [
        "Name: kanges\n"
       ]
      },
      {
       "name": "stdout",
       "output_type": "stream",
       "stream": "stdout",
       "text": [
        "School: kut\n"
       ]
      },
      {
       "output_type": "stream",
       "stream": "stdout",
       "text": [
        "\uc785\ub825\ud55c \uc815\ubcf4:  kangeunseok: af13c68d557406c432b162e9de183a2643f8073f, kanges, kut\n",
        "\n",
        "1. Sign Up\n",
        "2. Sign In\n",
        "3. quit\n"
       ]
      },
      {
       "name": "stdout",
       "output_type": "stream",
       "stream": "stdout",
       "text": [
        "Select menu: 2\n"
       ]
      },
      {
       "output_type": "stream",
       "stream": "stdout",
       "text": [
        "Sign in selected\n"
       ]
      },
      {
       "name": "stdout",
       "output_type": "stream",
       "stream": "stdout",
       "text": [
        "ID: kangeunseok\n"
       ]
      },
      {
       "name": "stdout",
       "output_type": "stream",
       "stream": "stdout",
       "text": [
        "Password: kang\n"
       ]
      },
      {
       "output_type": "stream",
       "stream": "stdout",
       "text": [
        "Hello [kangeunseok]!\n",
        "1. Sign Up\n",
        "2. Sign In\n",
        "3. quit\n"
       ]
      },
      {
       "name": "stdout",
       "output_type": "stream",
       "stream": "stdout",
       "text": [
        "Select menu: 3\n"
       ]
      }
     ],
     "prompt_number": 1
    },
    {
     "cell_type": "markdown",
     "metadata": {},
     "source": [
      "###[3\ubc88 \ubb38\uc81c] range() \ud568\uc218\uc640 \uc720\uc0ac\ud55c frange() \ud568\uc218\ub97c \ub2e4\uc74c \uc870\uac74\uc744 \ucc38\uace0\ud558\uc5ec \ub9cc\ub4dc\uc2dc\uc624.\n",
      "1) frange()\uc758 \uc778\uc790 \uad6c\uc131\uc740 \ub2e4\uc74c\uacfc \uac19\uc774 range\uc640 \ub3d9\uc77c\ud558\uc9c0\ub9cc \uac01 \uc778\uc218\ub4e4\uc740 \uc74c\uc218\ub97c \ubc1b\uc9c0 \uc54a\ub294\ub2e4\uace0 \uac00\uc815\ud55c\ub2e4.\n",
      "range(stop)\n",
      "range(start, stop[, step])\n",
      "2) frange() \ud568\uc218\uc758 \uc778\uc790\uc5d0 \ub300\ud55c \uae30\ubcf8 \uc2dc\uc791(start) \uac12\uc740 0.0\uc774\uace0, \uae30\ubcf8 \ub2e8\uacc4(step) \uac12\uc740 0.1\uc774\ub2e4.\n",
      "3) frange \uc0ac\uc6a9 \uc608\n",
      "3-1) frange(0.5)\n",
      "[0.0, 0.1, 0.2, 0.3, 0.4]\n",
      "3-2) frange(1.0, 2.0)\n",
      "[1.0, 1.1, 1.2, 1.3, 1.4, 1.5, 1.6, 1.7, 1.8, 1.9]\n",
      "3-3) frange(2.2, 4.0, 0.5)\n",
      "[2.2, 2.7, 3.2, 3.7]"
     ]
    },
    {
     "cell_type": "code",
     "collapsed": false,
     "input": [
      "__author__ = 'ES'\n",
      "# -*- coding: utf-8 -*-\n",
      "#def frange(start, stop, step):\n",
      "#\uc778\uc218 \ud558\ub098 stop start = 0.0, steop 0.1\n",
      "#\uc778\uc218 \ub450\uac1c start, stop, step =0.1\n",
      "from decimal import *\n",
      "def frange(*args):\n",
      "    start = 0.0\n",
      "    step = 0.1\n",
      "    step = round(step, 1)\n",
      "    frangeArray=[]\n",
      "    if len(args) == 1:\n",
      "        frangeArray.append(start)\n",
      "        while start < args[0]:\n",
      "            frangeArray.append(start)\n",
      "            start = start + step\n",
      "            start = round(start, 1)\n",
      "\n",
      "        return frangeArray\n",
      "    if len(args) == 2:\n",
      "        start = args[0]        \n",
      "\n",
      "        while start < args[1]:\n",
      "            frangeArray.append(start)\n",
      "            start = start + step\n",
      "            start = round(start, 1)\n",
      "            \n",
      "        return frangeArray\n",
      "    if len(args) >= 3:\n",
      "        start = args[0]\n",
      "        step = args[2]\n",
      "        start = round(start, 1)\n",
      "        while start < args[1]:\n",
      "            frangeArray.append(start)\n",
      "            start = start + step\n",
      "            \n",
      "        return frangeArray\n",
      "print frange(0.5)\n",
      "print frange(1.0, 2.0)\n",
      "print frange(2.2, 4.0, 0.5)\n"
     ],
     "language": "python",
     "metadata": {},
     "outputs": [
      {
       "output_type": "stream",
       "stream": "stdout",
       "text": [
        "[0.0, 0.0, 0.1, 0.2, 0.3, 0.4]\n",
        "[1.0, 1.1, 1.2, 1.3, 1.4, 1.5, 1.6, 1.7, 1.8, 1.9]\n",
        "[2.2, 2.7, 3.2, 3.7]\n"
       ]
      }
     ],
     "prompt_number": 2
    },
    {
     "cell_type": "markdown",
     "metadata": {},
     "source": [
      "###[4\ubc88 \ubb38\uc81c] \uac00\ubcc0\uc778\uc218\ub97c \ubc1b\ub294 \ud568\uc218 sum()\uc744 \ub2e4\uc74c\uacfc \uac19\uc740 \uc870\uac74\uc744 \ucc38\uace0\ud558\uc5ec \uad6c\ud604\ud558\uc2dc\uc624<br>\n",
      "1) sum() \uc0ac\uc6a9 \uc608 <br>\n",
      "sum() <br>\n",
      "0 <br>\n",
      "sum(1, 2) <br>\n",
      "3 <br>\n",
      "sum(1, 2, 3, 4, 5) <br>\n",
      "15 <br>\n",
      "sum(1, 5, 7, 2, -10) <br>\n",
      "5 <br>"
     ]
    },
    {
     "cell_type": "code",
     "collapsed": false,
     "input": [
      "__author__ = 'ES'\n",
      "def sum(*args):\n",
      "    result = 0\n",
      "    print args\n",
      "    for x in args:\n",
      "        result = result + x\n",
      "    return result\n",
      "\n",
      "print sum(0)\n",
      "print sum(1,2)\n",
      "print sum(1,2,3,4,5)\n",
      "print sum(1,5,7,2,-10)"
     ],
     "language": "python",
     "metadata": {},
     "outputs": [
      {
       "output_type": "stream",
       "stream": "stdout",
       "text": [
        "(0,)\n",
        "0\n",
        "(1, 2)\n",
        "3\n",
        "(1, 2, 3, 4, 5)\n",
        "15\n",
        "(1, 5, 7, 2, -10)\n",
        "5\n"
       ]
      }
     ],
     "prompt_number": 3
    },
    {
     "cell_type": "markdown",
     "metadata": {},
     "source": [
      "###[5\ubc88 \ubb38\uc81c] \uc5ec\ub7ec \ub2e8\uc5b4\ub85c \uc774\ub8e8\uc5b4\uc9c4 \ubb38\uc790\uc5f4\uc744 \uc785\ub825\ubc1b\uc544 \uac01 \ub2e8\uc5b4\uc758 \uccab\uae00\uc790\ub85c \uc774\ub8e8\uc5b4\uc9c4 \ub2e8\uc5b4\ub97c \ub300\ubb38\uc790\ub85c \ucd9c\ub825\ud558\ub294 myinitial() \ud568\uc218\ub97c \ub2e4\uc74c \uc870\uac74\uc744 \ucc38\uace0\ud558\uc5ec \uc791\uc131\ud558\uc2dc\uc624. <br>\n",
      "1) split, map, join \ud568\uc218\ub97c \ubaa8\ub450 \uc774\uc6a9\ud574\uc57c \ud55c\ub2e4. <br>\n",
      "2) myinitial() \ud568\uc218 \uc0ac\uc6a9 \uc608 <br>\n",
      "myinitial(\"as soon as possible\") <br>\n",
      "ASAP <br>"
     ]
    },
    {
     "cell_type": "code",
     "collapsed": false,
     "input": [
      "def myinitial(str):\n",
      "    def f(x):\n",
      "        return x[0]\n",
      "    str = str.split()\n",
      "    afterMap = map(f, str)\n",
      "    result = ''.join(afterMap)\n",
      "    print type(result)\n",
      "    return result.upper()\n",
      "\n",
      "print myinitial(\"as soon as possible\")\n",
      "print myinitial(\"asd asd asd asd asd\")"
     ],
     "language": "python",
     "metadata": {},
     "outputs": [
      {
       "output_type": "stream",
       "stream": "stdout",
       "text": [
        "<type 'str'>\n",
        "ASAP\n",
        "<type 'str'>\n",
        "AAAAA\n"
       ]
      }
     ],
     "prompt_number": 5
    },
    {
     "cell_type": "markdown",
     "metadata": {},
     "source": [
      "###[6\ubc88 \ubb38\uc81c] \uc74c\uc774 \uc544\ub2cc \uc815\uc218 n\ub97c \uc785\ub825\ubc1b\uc73c\uba74 n! (factorial)\uc744 \uacc4\uc0b0\ud558\ub294 myfact() \ud568\uc218\ub97c \uc7ac\uadc0\uc801 \ud568\uc218\ub85c \uad6c\ud604\ud558\uc2dc\uc624."
     ]
    },
    {
     "cell_type": "code",
     "collapsed": false,
     "input": [
      "# -*- coding: utf-8 -*-\n",
      "def factorial(N):\n",
      "    if N == 1:           # \uc885\uacb0 \uc870\uac74\n",
      "        return 1         # \uc885\uacb0 \uc870\uac74\uc774 \ub9cc\uc871\ud560 \ub54c\uc758 \ubc18\ud658 \uac12\n",
      "    return N * factorial(N-1)  # \uc7ac\uadc0 \ud638\ucd9c\n",
      "\n",
      "print factorial(4)\n",
      "print factorial(100)"
     ],
     "language": "python",
     "metadata": {},
     "outputs": [
      {
       "output_type": "stream",
       "stream": "stdout",
       "text": [
        "24\n",
        "93326215443944152681699238856266700490715968264381621468592963895217599993229915608941463976156518286253697920827223758251185210916864000000000000000000000000\n"
       ]
      }
     ],
     "prompt_number": 6
    },
    {
     "cell_type": "markdown",
     "metadata": {},
     "source": [
      "###[7\ubc88 \ubb38\uc81c] (\uc11c\uc220\ud615) import string \uacfc from string import * \uc758 \ucc28\uc774\uc810\uc744 \uc124\uba85\ud558\uc2dc\uc624."
     ]
    },
    {
     "cell_type": "markdown",
     "metadata": {},
     "source": [
      "####import string\n",
      "\uc774\ub984 \uacf5\uac04 string\uac00 \uadf8\ub300\ub85c \uc720\uc9c0\ub418\ubbc0\ub85c string \ubaa8\ub4c8\uc548\uc758 \ud568\uc218\ub4e4\uc744 \uc0ac\uc6a9\ud558\uae30 \uc704\ud574\uc11c\ub294\n",
      "string.\ud568\uc218\uba85 \uacfc\uac19\uc740 \ubc29\ubc95\uc73c\ub85c \uc774\uc6a9\ud574\uc57c \ud55c\ub2e4.\n",
      "\n",
      "####from string import * \n",
      "string \ubaa8\ub4c8\uc548\uc5d0 \uc874\uc7ac\ud558\ub294 '__'\ub85c \uc2dc\uc791\ub418\ub294 \uc774\ub984\ub4e4\uc744 \uc81c\uc678\ud55c \ubaa8\ub4e0 \uc774\ub984\ub4e4\uc744 \ud604\uc7ac \uc774\ub984 \uacf5\uac04\uc73c\ub85c \ubd88\ub7ec\ub4e4\uc778\ub2e4."
     ]
    },
    {
     "cell_type": "code",
     "collapsed": false,
     "input": [
      "import urllib\n",
      "import string\n",
      "import pickle\n",
      "\n",
      "\n",
      "def webScroll(input_url):\n",
      "    source = urllib.urlopen(\"http://\"+input_url).read()\n",
      "    len_source = len(source)\n",
      "\n",
      "    source_new = None\n",
      "    i = 0\n",
      "    while (i < len_source):\n",
      "        found = False\n",
      "        if (found != True and source[i] == \"<\" and source[i+1 : i+7].lower() == \"script\"):\n",
      "            found = True;\n",
      "            j = i + 7;\n",
      "            while (True):\n",
      "                if (source[j] == \"<\" and source[j+1] == \"/\" and source[j+2 : j+8].lower() == \"script\"):\n",
      "                    #print \"found - script\"\n",
      "                    source = source[:i] + ' ' + source[j+9:]\n",
      "                    break\n",
      "                j = j + 1\n",
      "                if (j > len_source):\n",
      "                    break\n",
      "            len_source = len(source)\n",
      "        i = i + 1\n",
      "\n",
      "    len_source = len(source)\n",
      "    #print len_source\n",
      "\n",
      "    i = 0\n",
      "    while (i < len_source):\n",
      "        found = False\n",
      "        if (found != True and source[i] == \"<\" and source[i+1 : i+6].lower() == \"style\"):\n",
      "            found = True;\n",
      "            j = i + 6;\n",
      "            while (True):\n",
      "                if (source[j] == \"<\" and source[j+1] == \"/\" and source[j+2 : j+7].lower() == \"style\"):\n",
      "                    #print \"found - style\"\n",
      "                    source = source[:i] + ' ' + source[j+8:]\n",
      "                    break\n",
      "                j = j + 1\n",
      "                if (j > len_source):\n",
      "                    break\n",
      "            len_source = len(source)\n",
      "        i = i + 1\n",
      "\n",
      "    len_source = len(source)\n",
      "    #print len_source\n",
      "\n",
      "    i = 0\n",
      "    while (i < len_source):\n",
      "        found = False\n",
      "        if (found != True and source[i] == \"<\"):\n",
      "            found = True;\n",
      "            j = i + 1;\n",
      "            while (True):\n",
      "                if (source[j] == \">\"):\n",
      "                    #print \"found - HTML tag\"\n",
      "                    source = source[:i] + ' ' + source[j+1:]\n",
      "\n",
      "                    break\n",
      "                j = j + 1\n",
      "                if (j > len_source):\n",
      "                    break\n",
      "            len_source = len(source)\n",
      "        i = i + 1\n",
      "\n",
      "\n",
      "  #\u00b7\u00b7\u00b7\n",
      "        '''\n",
      "    i = 0\n",
      "    while 1:\n",
      "        source.count =\n",
      "         '''\n",
      "\n",
      "\n",
      "\n",
      "\n",
      "\n",
      "    Filter = string.punctuation\n",
      "    found = False\n",
      "\n",
      "    i = 0\n",
      "    while (i < len_source):\n",
      "        found = False\n",
      "        if (found != True and source[i] in Filter):\n",
      "            found = True;\n",
      "            j = i + 1;\n",
      "            source = source[:i] + ' ' + source[i+1:]\n",
      "            if (j > len_source):\n",
      "                break\n",
      "            len_source = len(source)\n",
      "        i = i + 1\n",
      "\n",
      "\n",
      "    source = source.split('\u00b7')\n",
      "    source = ''.join(source)\n",
      "    words = source.split()\n",
      "\n",
      "    #for word in words:\n",
      "    #\tprint word\n",
      "\n",
      "\n",
      "    def checkedForRepetition(source):\n",
      "        list=[]\n",
      "        len_source = len(source)\n",
      "        i = 0\n",
      "        while True:\n",
      "            if(i>len_source-1):\n",
      "                break\n",
      "            checkedWord = source[i]\n",
      "            if(list.count(checkedWord)==0):\n",
      "                list.append(checkedWord)\n",
      "            else:\n",
      "                i = i + 1\n",
      "                continue\n",
      "\n",
      "        return list\n",
      "\n",
      "    nonRepeatedWords = checkedForRepetition(words)\n",
      "    list = []\n",
      "    for x in nonRepeatedWords:\n",
      "        list.append((x, words.count(x)))\n",
      "\n",
      "    list_dict = dict(list)\n",
      "\n",
      "    return list_dict\n",
      "\n",
      "# -*- coding: utf-8 -*-\n",
      "url = (\"koreatech.ac.kr\", \"cse.koreatech.ac.kr\",\"naver.com\", \"daum.net\", \"ruliweb.com\",\n",
      "       \"google.com\", \"www.naughtydog.com\", \"www.reddit.com\", \"www.microsoft.com\", \"khnews.kheraldm.com\" )\n",
      "\n",
      "\n",
      "#8\ubc88\ubb38\uc81c\n",
      "print \"8\ubc88 1\ubc88 \ubb38\uc81c\"\n",
      "def saveAsAFile(url):\n",
      "    url = url+\".html\"\n",
      "\n",
      "    f = open(url, 'w+')\n",
      "    f.write('12312 ')\n",
      "    print url+\"\ub85c \uc800\uc7a5\"\n",
      "    if(f):\n",
      "        return True\n",
      "    else:\n",
      "        return False\n",
      "\n",
      "for x in url:\n",
      "    saveAsAFile(x)\n",
      "print\n",
      "print \"8\ubc88 2, 3\ubc88 \ubb38\uc81c\"\n",
      "def saveFrequency(url):\n",
      "    url_dict = webScroll(url)\n",
      "    url = url+\".words.frequency\"\n",
      "    f = open(url, 'w+')\n",
      "    pickle.dump(url_dict, f)\n",
      "    print url+\"\ub85c \uc800\uc7a5\"\n",
      "    f.close()\n",
      "\n",
      "for x in url:\n",
      "    saveFrequency(x)   \n",
      "\n",
      "\n",
      "\n",
      "    "
     ],
     "language": "python",
     "metadata": {},
     "outputs": [
      {
       "output_type": "stream",
       "stream": "stdout",
       "text": [
        "8\ubc88 1\ubc88 \ubb38\uc81c\n",
        "koreatech.ac.kr.html\ub85c \uc800\uc7a5\n",
        "cse.koreatech.ac.kr.html\ub85c \uc800\uc7a5\n",
        "naver.com.html\ub85c \uc800\uc7a5\n",
        "daum.net.html\ub85c \uc800\uc7a5\n",
        "ruliweb.com.html\ub85c \uc800\uc7a5\n",
        "google.com.html\ub85c \uc800\uc7a5\n",
        "www.naughtydog.com.html\ub85c \uc800\uc7a5\n",
        "www.reddit.com.html\ub85c \uc800\uc7a5\n",
        "www.microsoft.com.html\ub85c \uc800\uc7a5\n",
        "khnews.kheraldm.com.html\ub85c \uc800\uc7a5\n",
        "\n",
        "8\ubc88 2, 3\ubc88 \ubb38\uc81c\n",
        "koreatech.ac.kr.words.frequency\ub85c \uc800\uc7a5\n",
        "cse.koreatech.ac.kr.words.frequency\ub85c \uc800\uc7a5"
       ]
      },
      {
       "output_type": "stream",
       "stream": "stdout",
       "text": [
        "\n",
        "naver.com.words.frequency\ub85c \uc800\uc7a5"
       ]
      },
      {
       "output_type": "stream",
       "stream": "stdout",
       "text": [
        "\n",
        "daum.net.words.frequency\ub85c \uc800\uc7a5"
       ]
      },
      {
       "output_type": "stream",
       "stream": "stdout",
       "text": [
        "\n",
        "ruliweb.com.words.frequency\ub85c \uc800\uc7a5"
       ]
      },
      {
       "output_type": "stream",
       "stream": "stdout",
       "text": [
        "\n",
        "google.com.words.frequency\ub85c \uc800\uc7a5"
       ]
      },
      {
       "output_type": "stream",
       "stream": "stdout",
       "text": [
        "\n",
        "www.naughtydog.com.words.frequency\ub85c \uc800\uc7a5"
       ]
      },
      {
       "output_type": "stream",
       "stream": "stdout",
       "text": [
        "\n",
        "www.reddit.com.words.frequency\ub85c \uc800\uc7a5"
       ]
      },
      {
       "output_type": "stream",
       "stream": "stdout",
       "text": [
        "\n",
        "www.microsoft.com.words.frequency\ub85c \uc800\uc7a5"
       ]
      },
      {
       "output_type": "stream",
       "stream": "stdout",
       "text": [
        "\n",
        "khnews.kheraldm.com.words.frequency\ub85c \uc800\uc7a5"
       ]
      },
      {
       "output_type": "stream",
       "stream": "stdout",
       "text": [
        "\n"
       ]
      }
     ],
     "prompt_number": 1
    },
    {
     "cell_type": "markdown",
     "metadata": {},
     "source": [
      "###[9\ubc88 \ubb38\uc81c] \uc704 \ubb38\uc81c\uc5d0\uc11c \uc800\uc7a5\ud55c \ubaa8\ub4e0 words.frequency \ud30c\uc77c\ub4e4\uc744 \ub85c\ub4dc \ud558\uc5ec \ubcf8\uc778\uc774 \uc800\uc7a5\ud558\uc5ec \ubd84\uc11d\ud55c \uc0ac\uc774\ud2b8\ub4e4\uc5d0\uc11c \uac00\uc7a5 \ub9ce\uc774 \ucd9c\ud604\ud55c \ub2e8\uc5b4\ub97c \ubf51\uc544 \uc81c\uc2dc\ud558\uc2dc\uc624."
     ]
    },
    {
     "cell_type": "code",
     "collapsed": false,
     "input": [
      "##9\ubc88\ubb38\uc81c\n",
      "\n",
      "def showthemostfrequentword(url):\n",
      "    url = url+\".words.frequency\"\n",
      "    f = open(url)\n",
      "    x = pickle.load(f)\n",
      "    list = []\n",
      "    for a in x:\n",
      "        list.append(x[a])\n",
      "    highestNum = sorted(list, reverse=True)[0]\n",
      "    for a in x:\n",
      "        if(x[a] == highestNum):\n",
      "            result = (a, x[a])\n",
      "    return result\n",
      "\n",
      "def thehighestnum(url):\n",
      "    list = []\n",
      "    for x in url:\n",
      "        list.append(showthemostfrequentword(x))\n",
      "    def f(x):\n",
      "        return x[1]\n",
      "    list = sorted(list, key=lambda x: x[1], reverse=True)\n",
      "\n",
      "    return list[0]\n",
      "\n",
      "themostfrequentword = thehighestnum(url)\n",
      "\n",
      "print\n",
      "print \"10\uac1c \ud30c\uc77c\uc5d0\uc11c \ubd88\ub7ec\uc628 \uac12\uc911 \uac00\uc7a5 \ube48\ub3c4\uc218 \ub192\uc740 \uac12\"\n",
      "print \"\uac12:\",themostfrequentword[0], \"\ube48\ub3c4\uc218:\",themostfrequentword[1]"
     ],
     "language": "python",
     "metadata": {},
     "outputs": [
      {
       "output_type": "stream",
       "stream": "stdout",
       "text": [
        "\n",
        "10\uac1c \ud30c\uc77c\uc5d0\uc11c \ubd88\ub7ec\uc628 \uac12\uc911 \uac00\uc7a5 \ube48\ub3c4\uc218 \ub192\uc740 \uac12\n",
        "\uac12: 32 \ube48\ub3c4\uc218: 239\n"
       ]
      }
     ],
     "prompt_number": 3
    },
    {
     "cell_type": "markdown",
     "metadata": {},
     "source": [
      "##\ub290\ub080\uc810"
     ]
    },
    {
     "cell_type": "markdown",
     "metadata": {},
     "source": [
      "\ucc98\uc74c\uc73c\ub85c \ud30c\uc774\uc36c\uc73c\ub85c 100\uc904\ub118\ub294 \ucf54\ub529\uc744 \ud574\ubcf8\uac83 \uac19\ub2e4. \ud30c\uc774\uc36c\uc758 \uc6a9\uc774\ud568\uacfc \ud655\uc7a5\uc131\uc5d0 \ub2e4\uc2dc\ud55c\ubc88 \uac10\ud0c4\uc744 \ud558\uc9c0 \uc54a\uc744\uc218 \uc5c6\uc5c8\ub2e4. \uacf5\ubd80\ud558\uba74 \uacf5\ubd80\ud560\uc218\ub85d \ub354 \uacf5\ubd80\ud560\uc810\uc774 \ub9ce\uc740 \uc5b8\uc5b4 \uac19\uc558\ub2e4. \ub098\uc911\uc5d0 \uc2dc\uac04\uc774 \ub418\uba74 django \ub098 flask \ub97c \ub2e4\ub8e8\uc5b4\uc11c \ud30c\uc774\uc36c \uc6f9\ud398\uc774\uc9c0\ub97c \ub9cc\ub4e4\uace0 numpy \ub97c \uc774\uc6a9\ud574 \ub370\uc774\ud130 \ubd84\uc11d\uc5d0 \uc774\uc6a9\ud574\ubcf4\uace0 \uc2f6\ub2e4. "
     ]
    },
    {
     "cell_type": "code",
     "collapsed": false,
     "input": [],
     "language": "python",
     "metadata": {},
     "outputs": []
    }
   ],
   "metadata": {}
  }
 ]
}